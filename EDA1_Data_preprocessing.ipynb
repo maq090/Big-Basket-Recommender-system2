{
 "cells": [
  {
   "cell_type": "markdown",
   "metadata": {},
   "source": [
    "# <span style=\"color:blue\"> <U/> Similar Products Recommendation for Big basket Dataset</span>"
   ]
  },
  {
   "cell_type": "markdown",
   "metadata": {},
   "source": [
    "###  Dataset Description\n",
    "\n",
    "- Bigbasket is the largest online grocery supermarket in India. Was launched somewhere around in 2011 since then they've been expanding their business. Though some new competitors have been able to set their foot in the nation such as Blinkit etc. but BigBasket has still not loose anything - thanks to ever expanding popular base and their shift to online buying.\n",
    "\n",
    "\n",
    "- The link for the dataset is \n",
    "<a href=\"url\" target=\"_blank\">https://www.kaggle.com/datasets/surajjha101/bigbasket-entire-product-list-28k-datapoints</a>\n",
    "\n",
    "\n",
    "\n",
    "- There are 27555 rows in dataset , \n",
    "  The dataset contains 10 attributes (columns) with simple meaning and which are described as follows:\n",
    "  \n",
    "  \n",
    " | Column | Description |\n",
    " | :---  | :---  |\n",
    "    | index |Simply the Index\n",
    "\t| product |Title of the product (as they're listed)-**23541 unique values**\n",
    "\t| category | Category into which product has been classified- **11 unique categories**\n",
    "\t| sub_category | Subcategory into which product has been kept-**90 unique sub_categories**\n",
    "    | brand |Brand of the product- **2314 unique brands**\n",
    "\t| sale_price |Price at which product is being sold on the site\n",
    "\t| market_price |Market price of the product\n",
    "\t| type |Type into which product falls- **426 unique types**\n",
    "\t| rating |Rating the product has got from its consumers\n",
    "\t| description|Description of the product (in detail)\n",
    "\n"
   ]
  },
  {
   "cell_type": "markdown",
   "metadata": {},
   "source": [
    "## Business Objective (Problem) and Constraints:\n",
    "\n",
    "- To recommend products as much as similar (relevant) to the product searched in Big basket search query\n",
    "- Incorrect recommendations could impact customer experience\n",
    "- Low latency requirement"
   ]
  },
  {
   "cell_type": "markdown",
   "metadata": {},
   "source": [
    "## ML problem formulation:\n",
    "\n",
    "- It is a Item- Item based Collabarative Filtered recommender system problem\n",
    "- Item based Collabarative Filtering Recommender system uses similarity between items as a measure to recommend similar items to the queried item"
   ]
  },
  {
   "cell_type": "markdown",
   "metadata": {},
   "source": [
    "## Performance Metrics:\n",
    "\n",
    "- Cosine similarity will be used to find similar items for the given query item using the item (product) details  while modelling\n",
    "- Cosine similarity is a metric, helpful in determining, how similar the data objects(two products) are, In cosine similarity, data objects in a dataset are treated as a vector. The formula to find the cosine similarity between two vectors is \n",
    "       \n",
    "    Cos(x, y) = x . y / ||x|| * ||y||\n",
    "    \n",
    "    where,\n",
    "           x . y = product (dot) of the vectors ‘x’ and ‘y’.\n",
    "          ||x|| and ||y|| = length of the two vectors ‘x’ and ‘y’.\n",
    "          ||x|| * ||y|| = cross product of the two vectors ‘x’ and ‘y’\n",
    "\n",
    "Source: https://www.geeksforgeeks.org/cosine-similarity/\n",
    "\n",
    "- In Real time, metrics described above don’t show us how real customers react to the produced recommendations in terms of the company’s business strategy. The only way to measure it is A/B testing. A/B testing costs more resources and time, but it allows us to measure the model performance,One of techniques used in A/B testing is *`Click Through Rate(CTR)`*\n",
    "\n"
   ]
  },
  {
   "cell_type": "markdown",
   "metadata": {},
   "source": [
    "### Overview Of Data"
   ]
  },
  {
   "cell_type": "code",
   "execution_count": 1,
   "metadata": {},
   "outputs": [],
   "source": [
    "#import all the necessary packages.\n",
    "import matplotlib.pyplot as plt\n",
    "import numpy as np\n",
    "import pandas as pd\n",
    "import warnings\n",
    "warnings.filterwarnings(\"ignore\")\n",
    "from nltk.corpus import stopwords\n",
    "from nltk.tokenize import word_tokenize\n",
    "import nltk\n",
    "import seaborn as sns\n",
    "from collections import Counter\n",
    "from sklearn.feature_extraction.text import CountVectorizer\n",
    "from sklearn.feature_extraction.text import TfidfVectorizer\n",
    "from sklearn.metrics.pairwise import cosine_similarity  \n",
    "from sklearn.metrics import pairwise_distances\n",
    "from scipy.sparse import hstack\n",
    "from sklearn.cluster import KMeans\n",
    "from tqdm import tqdm\n",
    "import pickle\n",
    "import re"
   ]
  },
  {
   "cell_type": "code",
   "execution_count": 2,
   "metadata": {},
   "outputs": [
    {
     "data": {
      "text/html": [
       "<div>\n",
       "<style scoped>\n",
       "    .dataframe tbody tr th:only-of-type {\n",
       "        vertical-align: middle;\n",
       "    }\n",
       "\n",
       "    .dataframe tbody tr th {\n",
       "        vertical-align: top;\n",
       "    }\n",
       "\n",
       "    .dataframe thead th {\n",
       "        text-align: right;\n",
       "    }\n",
       "</style>\n",
       "<table border=\"1\" class=\"dataframe\">\n",
       "  <thead>\n",
       "    <tr style=\"text-align: right;\">\n",
       "      <th></th>\n",
       "      <th>index</th>\n",
       "      <th>product</th>\n",
       "      <th>category</th>\n",
       "      <th>sub_category</th>\n",
       "      <th>brand</th>\n",
       "      <th>sale_price</th>\n",
       "      <th>market_price</th>\n",
       "      <th>type</th>\n",
       "      <th>rating</th>\n",
       "      <th>description</th>\n",
       "    </tr>\n",
       "  </thead>\n",
       "  <tbody>\n",
       "    <tr>\n",
       "      <th>0</th>\n",
       "      <td>1</td>\n",
       "      <td>Garlic Oil - Vegetarian Capsule 500 mg</td>\n",
       "      <td>Beauty &amp; Hygiene</td>\n",
       "      <td>Hair Care</td>\n",
       "      <td>Sri Sri Ayurveda</td>\n",
       "      <td>220.0</td>\n",
       "      <td>220.0</td>\n",
       "      <td>Hair Oil &amp; Serum</td>\n",
       "      <td>4.1</td>\n",
       "      <td>This Product contains Garlic Oil that is known...</td>\n",
       "    </tr>\n",
       "    <tr>\n",
       "      <th>1</th>\n",
       "      <td>2</td>\n",
       "      <td>Water Bottle - Orange</td>\n",
       "      <td>Kitchen, Garden &amp; Pets</td>\n",
       "      <td>Storage &amp; Accessories</td>\n",
       "      <td>Mastercook</td>\n",
       "      <td>180.0</td>\n",
       "      <td>180.0</td>\n",
       "      <td>Water &amp; Fridge Bottles</td>\n",
       "      <td>2.3</td>\n",
       "      <td>Each product is microwave safe (without lid), ...</td>\n",
       "    </tr>\n",
       "    <tr>\n",
       "      <th>2</th>\n",
       "      <td>3</td>\n",
       "      <td>Brass Angle Deep - Plain, No.2</td>\n",
       "      <td>Cleaning &amp; Household</td>\n",
       "      <td>Pooja Needs</td>\n",
       "      <td>Trm</td>\n",
       "      <td>119.0</td>\n",
       "      <td>250.0</td>\n",
       "      <td>Lamp &amp; Lamp Oil</td>\n",
       "      <td>3.4</td>\n",
       "      <td>A perfect gift for all occasions, be it your m...</td>\n",
       "    </tr>\n",
       "  </tbody>\n",
       "</table>\n",
       "</div>"
      ],
      "text/plain": [
       "   index                                 product                category  \\\n",
       "0      1  Garlic Oil - Vegetarian Capsule 500 mg        Beauty & Hygiene   \n",
       "1      2                   Water Bottle - Orange  Kitchen, Garden & Pets   \n",
       "2      3          Brass Angle Deep - Plain, No.2    Cleaning & Household   \n",
       "\n",
       "            sub_category              brand  sale_price  market_price  \\\n",
       "0              Hair Care  Sri Sri Ayurveda        220.0         220.0   \n",
       "1  Storage & Accessories         Mastercook       180.0         180.0   \n",
       "2            Pooja Needs                Trm       119.0         250.0   \n",
       "\n",
       "                     type  rating  \\\n",
       "0        Hair Oil & Serum     4.1   \n",
       "1  Water & Fridge Bottles     2.3   \n",
       "2         Lamp & Lamp Oil     3.4   \n",
       "\n",
       "                                         description  \n",
       "0  This Product contains Garlic Oil that is known...  \n",
       "1  Each product is microwave safe (without lid), ...  \n",
       "2  A perfect gift for all occasions, be it your m...  "
      ]
     },
     "execution_count": 2,
     "metadata": {},
     "output_type": "execute_result"
    }
   ],
   "source": [
    "# we have give a csvfile which consists of all information about\n",
    "# the products\n",
    "# loading the data using pandas' read_csv file.\n",
    "data=pd.read_csv(r'BigBasket Products.csv')\n",
    "data.head(3)"
   ]
  },
  {
   "cell_type": "code",
   "execution_count": 3,
   "metadata": {},
   "outputs": [
    {
     "name": "stdout",
     "output_type": "stream",
     "text": [
      "Number of data points :  27555 \n",
      "Number of features/variables: 10\n"
     ]
    }
   ],
   "source": [
    "print ('Number of data points : ', data.shape[0],'\\nNumber of features/variables:', data.shape[1])"
   ]
  },
  {
   "cell_type": "code",
   "execution_count": 4,
   "metadata": {},
   "outputs": [
    {
     "data": {
      "text/plain": [
       "Index(['index', 'product', 'category', 'sub_category', 'brand', 'sale_price',\n",
       "       'market_price', 'type', 'rating', 'description'],\n",
       "      dtype='object')"
      ]
     },
     "execution_count": 4,
     "metadata": {},
     "output_type": "execute_result"
    }
   ],
   "source": [
    "# each product/item has 10 features in the raw dataset.\n",
    "data.columns # prints column-names or feature-names."
   ]
  },
  {
   "cell_type": "code",
   "execution_count": 5,
   "metadata": {},
   "outputs": [
    {
     "name": "stdout",
     "output_type": "stream",
     "text": [
      "<class 'pandas.core.frame.DataFrame'>\n",
      "RangeIndex: 27555 entries, 0 to 27554\n",
      "Data columns (total 10 columns):\n",
      " #   Column        Non-Null Count  Dtype  \n",
      "---  ------        --------------  -----  \n",
      " 0   index         27555 non-null  int64  \n",
      " 1   product       27554 non-null  object \n",
      " 2   category      27555 non-null  object \n",
      " 3   sub_category  27555 non-null  object \n",
      " 4   brand         27554 non-null  object \n",
      " 5   sale_price    27555 non-null  float64\n",
      " 6   market_price  27555 non-null  float64\n",
      " 7   type          27555 non-null  object \n",
      " 8   rating        18929 non-null  float64\n",
      " 9   description   27440 non-null  object \n",
      "dtypes: float64(3), int64(1), object(6)\n",
      "memory usage: 2.1+ MB\n"
     ]
    }
   ],
   "source": [
    "# info about the data features\n",
    "data.info()"
   ]
  },
  {
   "cell_type": "code",
   "execution_count": 6,
   "metadata": {},
   "outputs": [
    {
     "data": {
      "text/plain": [
       "index              0\n",
       "product            1\n",
       "category           0\n",
       "sub_category       0\n",
       "brand              1\n",
       "sale_price         0\n",
       "market_price       0\n",
       "type               0\n",
       "rating          8626\n",
       "description      115\n",
       "dtype: int64"
      ]
     },
     "execution_count": 6,
     "metadata": {},
     "output_type": "execute_result"
    }
   ],
   "source": [
    "# to know null values in each column/feature\n",
    "data.isnull().sum()"
   ]
  },
  {
   "cell_type": "markdown",
   "metadata": {},
   "source": [
    "Of these 10 features, we will be using only 6 features for our Model.\n",
    "\n",
    "1.\tcategory - Category into which product has been classified-11 unique categories\n",
    "2.\tsub_category - Subcategory into which product has been kept-90 unique sub_categories\n",
    "3.\tbrand - Brand of the product-2314 unique brands\n",
    "4.\ttype- Type into which product falls-426 unique types\n",
    "5.  sale_price - Price at which product is being sold on the site\n",
    "6. description- Description of the product (in detail)\n",
    "\n",
    "  In addition to the above 6 features we will use newly built feature **`discount`** on product(i.e, market price-sell price/market price) , to rank the order of Recommended products\n"
   ]
  },
  {
   "cell_type": "code",
   "execution_count": 7,
   "metadata": {},
   "outputs": [],
   "source": [
    "# creating new column discount_%\n",
    "data['discount_%']=(data['market_price']-data['sale_price'])/data['market_price']"
   ]
  },
  {
   "cell_type": "code",
   "execution_count": 8,
   "metadata": {},
   "outputs": [
    {
     "data": {
      "text/html": [
       "<div>\n",
       "<style scoped>\n",
       "    .dataframe tbody tr th:only-of-type {\n",
       "        vertical-align: middle;\n",
       "    }\n",
       "\n",
       "    .dataframe tbody tr th {\n",
       "        vertical-align: top;\n",
       "    }\n",
       "\n",
       "    .dataframe thead th {\n",
       "        text-align: right;\n",
       "    }\n",
       "</style>\n",
       "<table border=\"1\" class=\"dataframe\">\n",
       "  <thead>\n",
       "    <tr style=\"text-align: right;\">\n",
       "      <th></th>\n",
       "      <th>product</th>\n",
       "      <th>category</th>\n",
       "      <th>sub_category</th>\n",
       "      <th>brand</th>\n",
       "      <th>type</th>\n",
       "      <th>description</th>\n",
       "      <th>sale_price</th>\n",
       "      <th>market_price</th>\n",
       "      <th>discount_%</th>\n",
       "    </tr>\n",
       "  </thead>\n",
       "  <tbody>\n",
       "    <tr>\n",
       "      <th>0</th>\n",
       "      <td>Garlic Oil - Vegetarian Capsule 500 mg</td>\n",
       "      <td>Beauty &amp; Hygiene</td>\n",
       "      <td>Hair Care</td>\n",
       "      <td>Sri Sri Ayurveda</td>\n",
       "      <td>Hair Oil &amp; Serum</td>\n",
       "      <td>This Product contains Garlic Oil that is known...</td>\n",
       "      <td>220.0</td>\n",
       "      <td>220.0</td>\n",
       "      <td>0.0</td>\n",
       "    </tr>\n",
       "    <tr>\n",
       "      <th>1</th>\n",
       "      <td>Water Bottle - Orange</td>\n",
       "      <td>Kitchen, Garden &amp; Pets</td>\n",
       "      <td>Storage &amp; Accessories</td>\n",
       "      <td>Mastercook</td>\n",
       "      <td>Water &amp; Fridge Bottles</td>\n",
       "      <td>Each product is microwave safe (without lid), ...</td>\n",
       "      <td>180.0</td>\n",
       "      <td>180.0</td>\n",
       "      <td>0.0</td>\n",
       "    </tr>\n",
       "  </tbody>\n",
       "</table>\n",
       "</div>"
      ],
      "text/plain": [
       "                                  product                category  \\\n",
       "0  Garlic Oil - Vegetarian Capsule 500 mg        Beauty & Hygiene   \n",
       "1                   Water Bottle - Orange  Kitchen, Garden & Pets   \n",
       "\n",
       "            sub_category              brand                    type  \\\n",
       "0              Hair Care  Sri Sri Ayurveda         Hair Oil & Serum   \n",
       "1  Storage & Accessories         Mastercook  Water & Fridge Bottles   \n",
       "\n",
       "                                         description  sale_price  \\\n",
       "0  This Product contains Garlic Oil that is known...       220.0   \n",
       "1  Each product is microwave safe (without lid), ...       180.0   \n",
       "\n",
       "   market_price  discount_%  \n",
       "0         220.0         0.0  \n",
       "1         180.0         0.0  "
      ]
     },
     "execution_count": 8,
     "metadata": {},
     "output_type": "execute_result"
    }
   ],
   "source": [
    "# selecting the required columns from dataframe for our analysis and model building\n",
    "data=data[['product','category','sub_category','brand','type','description','sale_price','market_price','discount_%']]\n",
    "data.head(2)"
   ]
  },
  {
   "cell_type": "code",
   "execution_count": 9,
   "metadata": {},
   "outputs": [
    {
     "data": {
      "text/plain": [
       "(27439, 9)"
      ]
     },
     "execution_count": 9,
     "metadata": {},
     "output_type": "execute_result"
    }
   ],
   "source": [
    "# will remove rows with missing value in columns product,brand,description\n",
    "data=data[~data['product'].isna()] # removing row with missing product value\n",
    "data=data[~data['brand'].isna()]\n",
    "data=data[~data['description'].isna()]\n",
    "data.shape"
   ]
  },
  {
   "cell_type": "markdown",
   "metadata": {},
   "source": [
    "- After removing missing **'product','brand','description'** datapoints reduced from 27555 to 27439 (99.57 % data retained)"
   ]
  },
  {
   "cell_type": "code",
   "execution_count": 10,
   "metadata": {},
   "outputs": [
    {
     "data": {
      "text/plain": [
       "product         False\n",
       "category        False\n",
       "sub_category    False\n",
       "brand           False\n",
       "type            False\n",
       "description     False\n",
       "sale_price      False\n",
       "market_price    False\n",
       "discount_%      False\n",
       "dtype: bool"
      ]
     },
     "execution_count": 10,
     "metadata": {},
     "output_type": "execute_result"
    }
   ],
   "source": [
    "# to find the row with value null\n",
    "data.isnull().any()"
   ]
  },
  {
   "cell_type": "code",
   "execution_count": 11,
   "metadata": {},
   "outputs": [
    {
     "name": "stdout",
     "output_type": "stream",
     "text": [
      "data_train shape (21951, 9)\n",
      "data_test shape (5488, 9)\n"
     ]
    }
   ],
   "source": [
    "# splitting data into train and test \n",
    "from sklearn.model_selection import train_test_split\n",
    "\n",
    "data_train,data_test=train_test_split(data,test_size=0.2,random_state=33)\n",
    "\n",
    "print('data_train shape',data_train.shape)\n",
    "print('data_test shape',data_test.shape)"
   ]
  },
  {
   "cell_type": "code",
   "execution_count": 12,
   "metadata": {},
   "outputs": [],
   "source": [
    "# resetting index\n",
    "data_train=data_train.reset_index(drop=True)\n",
    "data_test=data_test.reset_index(drop=True)"
   ]
  },
  {
   "cell_type": "code",
   "execution_count": 13,
   "metadata": {},
   "outputs": [],
   "source": [
    "# saving to pickle files\n",
    "import pickle\n",
    "pickle.dump((data_train,data_test),open('test_and_train.pkl','wb'))"
   ]
  },
  {
   "cell_type": "markdown",
   "metadata": {},
   "source": [
    "### EDA on train data"
   ]
  },
  {
   "cell_type": "code",
   "execution_count": 14,
   "metadata": {},
   "outputs": [
    {
     "data": {
      "text/plain": [
       "Index(['product', 'category', 'sub_category', 'brand', 'type', 'description',\n",
       "       'sale_price', 'market_price', 'discount_%'],\n",
       "      dtype='object')"
      ]
     },
     "execution_count": 14,
     "metadata": {},
     "output_type": "execute_result"
    }
   ],
   "source": [
    "data_train.columns"
   ]
  },
  {
   "cell_type": "code",
   "execution_count": 15,
   "metadata": {},
   "outputs": [
    {
     "data": {
      "text/plain": [
       "count                            21951\n",
       "unique                           19301\n",
       "top       Turmeric Powder/Arisina Pudi\n",
       "freq                                21\n",
       "Name: product, dtype: object"
      ]
     },
     "execution_count": 15,
     "metadata": {},
     "output_type": "execute_result"
    }
   ],
   "source": [
    "# Univariate Analysis for feature 'product'\n",
    "data_train['product'].describe()"
   ]
  },
  {
   "cell_type": "markdown",
   "metadata": {},
   "source": [
    "- Out of 21951 train data, there are 19301 Unique values for `product` and top most occuring product is 'Turmeric Powder/Arisina Pudi' with 21 times "
   ]
  },
  {
   "cell_type": "code",
   "execution_count": 16,
   "metadata": {},
   "outputs": [
    {
     "data": {
      "text/plain": [
       "count                21951\n",
       "unique                  11\n",
       "top       Beauty & Hygiene\n",
       "freq                  6306\n",
       "Name: category, dtype: object"
      ]
     },
     "execution_count": 16,
     "metadata": {},
     "output_type": "execute_result"
    }
   ],
   "source": [
    "# Univariate Analysis For feature category\n",
    "data_train['category'].describe()"
   ]
  },
  {
   "cell_type": "code",
   "execution_count": 17,
   "metadata": {},
   "outputs": [
    {
     "data": {
      "text/html": [
       "<div>\n",
       "<style scoped>\n",
       "    .dataframe tbody tr th:only-of-type {\n",
       "        vertical-align: middle;\n",
       "    }\n",
       "\n",
       "    .dataframe tbody tr th {\n",
       "        vertical-align: top;\n",
       "    }\n",
       "\n",
       "    .dataframe thead th {\n",
       "        text-align: right;\n",
       "    }\n",
       "</style>\n",
       "<table border=\"1\" class=\"dataframe\">\n",
       "  <thead>\n",
       "    <tr style=\"text-align: right;\">\n",
       "      <th></th>\n",
       "      <th>category</th>\n",
       "      <th>counts</th>\n",
       "    </tr>\n",
       "  </thead>\n",
       "  <tbody>\n",
       "    <tr>\n",
       "      <th>0</th>\n",
       "      <td>Beauty &amp; Hygiene</td>\n",
       "      <td>6306</td>\n",
       "    </tr>\n",
       "    <tr>\n",
       "      <th>1</th>\n",
       "      <td>Gourmet &amp; World Food</td>\n",
       "      <td>3736</td>\n",
       "    </tr>\n",
       "    <tr>\n",
       "      <th>2</th>\n",
       "      <td>Kitchen, Garden &amp; Pets</td>\n",
       "      <td>2838</td>\n",
       "    </tr>\n",
       "    <tr>\n",
       "      <th>3</th>\n",
       "      <td>Snacks &amp; Branded Foods</td>\n",
       "      <td>2245</td>\n",
       "    </tr>\n",
       "    <tr>\n",
       "      <th>4</th>\n",
       "      <td>Cleaning &amp; Household</td>\n",
       "      <td>2128</td>\n",
       "    </tr>\n",
       "    <tr>\n",
       "      <th>5</th>\n",
       "      <td>Foodgrains, Oil &amp; Masala</td>\n",
       "      <td>2099</td>\n",
       "    </tr>\n",
       "    <tr>\n",
       "      <th>6</th>\n",
       "      <td>Beverages</td>\n",
       "      <td>701</td>\n",
       "    </tr>\n",
       "    <tr>\n",
       "      <th>7</th>\n",
       "      <td>Bakery, Cakes &amp; Dairy</td>\n",
       "      <td>685</td>\n",
       "    </tr>\n",
       "    <tr>\n",
       "      <th>8</th>\n",
       "      <td>Baby Care</td>\n",
       "      <td>495</td>\n",
       "    </tr>\n",
       "    <tr>\n",
       "      <th>9</th>\n",
       "      <td>Fruits &amp; Vegetables</td>\n",
       "      <td>443</td>\n",
       "    </tr>\n",
       "    <tr>\n",
       "      <th>10</th>\n",
       "      <td>Eggs, Meat &amp; Fish</td>\n",
       "      <td>275</td>\n",
       "    </tr>\n",
       "  </tbody>\n",
       "</table>\n",
       "</div>"
      ],
      "text/plain": [
       "                    category  counts\n",
       "0           Beauty & Hygiene    6306\n",
       "1       Gourmet & World Food    3736\n",
       "2     Kitchen, Garden & Pets    2838\n",
       "3     Snacks & Branded Foods    2245\n",
       "4       Cleaning & Household    2128\n",
       "5   Foodgrains, Oil & Masala    2099\n",
       "6                  Beverages     701\n",
       "7      Bakery, Cakes & Dairy     685\n",
       "8                  Baby Care     495\n",
       "9        Fruits & Vegetables     443\n",
       "10         Eggs, Meat & Fish     275"
      ]
     },
     "execution_count": 17,
     "metadata": {},
     "output_type": "execute_result"
    }
   ],
   "source": [
    "d1=data_train['category'].value_counts().reset_index()\n",
    "d1.columns=['category','counts']\n",
    "d1"
   ]
  },
  {
   "cell_type": "code",
   "execution_count": 18,
   "metadata": {},
   "outputs": [
    {
     "data": {
      "text/html": [
       "<div>\n",
       "<style scoped>\n",
       "    .dataframe tbody tr th:only-of-type {\n",
       "        vertical-align: middle;\n",
       "    }\n",
       "\n",
       "    .dataframe tbody tr th {\n",
       "        vertical-align: top;\n",
       "    }\n",
       "\n",
       "    .dataframe thead th {\n",
       "        text-align: right;\n",
       "    }\n",
       "</style>\n",
       "<table border=\"1\" class=\"dataframe\">\n",
       "  <thead>\n",
       "    <tr style=\"text-align: right;\">\n",
       "      <th></th>\n",
       "      <th>category</th>\n",
       "      <th>%</th>\n",
       "      <th>cum_%</th>\n",
       "    </tr>\n",
       "  </thead>\n",
       "  <tbody>\n",
       "    <tr>\n",
       "      <th>0</th>\n",
       "      <td>Beauty &amp; Hygiene</td>\n",
       "      <td>0.287276</td>\n",
       "      <td>0.287276</td>\n",
       "    </tr>\n",
       "    <tr>\n",
       "      <th>1</th>\n",
       "      <td>Gourmet &amp; World Food</td>\n",
       "      <td>0.170197</td>\n",
       "      <td>0.457473</td>\n",
       "    </tr>\n",
       "    <tr>\n",
       "      <th>2</th>\n",
       "      <td>Kitchen, Garden &amp; Pets</td>\n",
       "      <td>0.129288</td>\n",
       "      <td>0.586761</td>\n",
       "    </tr>\n",
       "    <tr>\n",
       "      <th>3</th>\n",
       "      <td>Snacks &amp; Branded Foods</td>\n",
       "      <td>0.102273</td>\n",
       "      <td>0.689035</td>\n",
       "    </tr>\n",
       "    <tr>\n",
       "      <th>4</th>\n",
       "      <td>Cleaning &amp; Household</td>\n",
       "      <td>0.096943</td>\n",
       "      <td>0.785978</td>\n",
       "    </tr>\n",
       "    <tr>\n",
       "      <th>5</th>\n",
       "      <td>Foodgrains, Oil &amp; Masala</td>\n",
       "      <td>0.095622</td>\n",
       "      <td>0.881600</td>\n",
       "    </tr>\n",
       "    <tr>\n",
       "      <th>6</th>\n",
       "      <td>Beverages</td>\n",
       "      <td>0.031935</td>\n",
       "      <td>0.913535</td>\n",
       "    </tr>\n",
       "    <tr>\n",
       "      <th>7</th>\n",
       "      <td>Bakery, Cakes &amp; Dairy</td>\n",
       "      <td>0.031206</td>\n",
       "      <td>0.944741</td>\n",
       "    </tr>\n",
       "    <tr>\n",
       "      <th>8</th>\n",
       "      <td>Baby Care</td>\n",
       "      <td>0.022550</td>\n",
       "      <td>0.967291</td>\n",
       "    </tr>\n",
       "    <tr>\n",
       "      <th>9</th>\n",
       "      <td>Fruits &amp; Vegetables</td>\n",
       "      <td>0.020181</td>\n",
       "      <td>0.987472</td>\n",
       "    </tr>\n",
       "    <tr>\n",
       "      <th>10</th>\n",
       "      <td>Eggs, Meat &amp; Fish</td>\n",
       "      <td>0.012528</td>\n",
       "      <td>1.000000</td>\n",
       "    </tr>\n",
       "  </tbody>\n",
       "</table>\n",
       "</div>"
      ],
      "text/plain": [
       "                    category         %     cum_%\n",
       "0           Beauty & Hygiene  0.287276  0.287276\n",
       "1       Gourmet & World Food  0.170197  0.457473\n",
       "2     Kitchen, Garden & Pets  0.129288  0.586761\n",
       "3     Snacks & Branded Foods  0.102273  0.689035\n",
       "4       Cleaning & Household  0.096943  0.785978\n",
       "5   Foodgrains, Oil & Masala  0.095622  0.881600\n",
       "6                  Beverages  0.031935  0.913535\n",
       "7      Bakery, Cakes & Dairy  0.031206  0.944741\n",
       "8                  Baby Care  0.022550  0.967291\n",
       "9        Fruits & Vegetables  0.020181  0.987472\n",
       "10         Eggs, Meat & Fish  0.012528  1.000000"
      ]
     },
     "execution_count": 18,
     "metadata": {},
     "output_type": "execute_result"
    }
   ],
   "source": [
    "#https://www.w3schools.com/python/pandas/ref_df_cumsum.asp\n",
    "#https://www.geeksforgeeks.org/how-to-rename-columns-in-pandas-dataframe/\n",
    "cate=data_train['category'].value_counts(normalize=True).reset_index() # creating data frame with name cate for further processing\n",
    "cate['cum_%']= cate['category'].cumsum()\n",
    "cate.columns=['category','%','cum_%']\n",
    "cate"
   ]
  },
  {
   "cell_type": "markdown",
   "metadata": {},
   "source": [
    "- `28.72%` of products fall in category of `Beauty & Hygenie`\n",
    "- Gourmet & World Food occupies 17.01 % of total products\n",
    "- followed by Kitchen, Garden & Pets which has a 12.92% share\n",
    "- Snacks & Branded Foods has 10.2% share\n",
    "- Rest of the categories have less than 1 percent share each in total products list"
   ]
  },
  {
   "cell_type": "code",
   "execution_count": 19,
   "metadata": {},
   "outputs": [
    {
     "data": {
      "image/png": "[encoded data removed]",
      "text/plain": [
       "<Figure size 864x360 with 2 Axes>"
      ]
     },
     "metadata": {
      "needs_background": "light"
     },
     "output_type": "display_data"
    }
   ],
   "source": [
    "#https://stackoverflow.com/questions/37930693/how-can-i-make-a-barplot-and-a-lineplot-in-the-same-seaborn-plot-with-different\n",
    "# we can combine line and bar graph in same plot using twinx() in seaborn\n",
    "#https://www.geeksforgeeks.org/how-to-annotate-bars-in-barplot-with-matplotlib-in-python/\n",
    "#https://matplotlib.org/stable/gallery/lines_bars_and_markers/barchart.html\n",
    "#https://www.easytweaks.com/matplotlib-seaborn-text-label-points/\n",
    "plt.figure(figsize=(12,5))\n",
    "ax=sns.barplot(x='category',y='counts',data=d1,palette=\"Blues_d\")\n",
    "ax.set_xticklabels(ax.get_xticklabels(), rotation=40,ha=\"right\")\n",
    "for bar in ax.patches: # annotating bar graph \n",
    "    ax.annotate(format(bar.get_height(), '.0f'),\n",
    "                   (bar.get_x() + bar.get_width() / 2,\n",
    "                    bar.get_height()), ha='center', va='center',\n",
    "                   size=8, xytext=(0, 8),\n",
    "                   textcoords='offset points')\n",
    "    \n",
    "ax2=ax.twinx() # to include line graph with bar graph in same plot\n",
    "ax2=sns.lineplot(x='category',y='cum_%',data=cate,marker=\"o\",color='r')\n",
    "\n",
    "for i,value in enumerate(cate['cum_%'].values): # to annotate line plot \n",
    "    ax2.text(cate['category'].values[i],cate['cum_%'].values[i]-0.0025,np.round(value*100,2))\n",
    "    # putting text of cum_% value with respect to its x,y values\n",
    "    #ax2,text(x-coordinate,ycordinate,value) # position of annotation\n",
    "ax.set_title('Univariate Analysis of Category') # title the graph\n",
    "plt.tight_layout()\n",
    "plt.show()"
   ]
  },
  {
   "cell_type": "code",
   "execution_count": 20,
   "metadata": {},
   "outputs": [
    {
     "data": {
      "text/plain": [
       "count         21951\n",
       "unique           90\n",
       "top       Skin Care\n",
       "freq           1814\n",
       "Name: sub_category, dtype: object"
      ]
     },
     "execution_count": 20,
     "metadata": {},
     "output_type": "execute_result"
    }
   ],
   "source": [
    "# For feature 'sub_category'\n",
    "data_train['sub_category'].describe()"
   ]
  },
  {
   "cell_type": "code",
   "execution_count": 21,
   "metadata": {},
   "outputs": [
    {
     "data": {
      "text/plain": [
       "Skin Care                   1814\n",
       "Health & Medicine            927\n",
       "Hair Care                    830\n",
       "Fragrances & Deos            822\n",
       "Storage & Accessories        821\n",
       "                            ... \n",
       "Mutton & Lamb                 18\n",
       "Water                         14\n",
       "Flower Bouquets, Bunches       8\n",
       "Pork & Other Meats             2\n",
       "Marinades                      1\n",
       "Name: sub_category, Length: 90, dtype: int64"
      ]
     },
     "execution_count": 21,
     "metadata": {},
     "output_type": "execute_result"
    }
   ],
   "source": [
    "data_train['sub_category'].value_counts()"
   ]
  },
  {
   "cell_type": "code",
   "execution_count": 22,
   "metadata": {},
   "outputs": [
    {
     "data": {
      "text/plain": [
       "Skin Care                   8.263860\n",
       "Health & Medicine           4.223042\n",
       "Hair Care                   3.781149\n",
       "Fragrances & Deos           3.744704\n",
       "Storage & Accessories       3.740149\n",
       "                              ...   \n",
       "Mutton & Lamb               0.082001\n",
       "Water                       0.063778\n",
       "Flower Bouquets, Bunches    0.036445\n",
       "Pork & Other Meats          0.009111\n",
       "Marinades                   0.004556\n",
       "Name: sub_category, Length: 90, dtype: float64"
      ]
     },
     "execution_count": 22,
     "metadata": {},
     "output_type": "execute_result"
    }
   ],
   "source": [
    "data_train['sub_category'].value_counts(normalize=True)*100 # To get percentage"
   ]
  },
  {
   "cell_type": "markdown",
   "metadata": {},
   "source": [
    "- The top four major sub_categories are as follows\n",
    "\n",
    "   1.Skin Care- 8.26%<br/>\n",
    "   2.Health & Medicine- 4.22%<br/>\n",
    "   3.Hair Care-3.78%<br/> \n",
    "   4.Fragrances & Deos - 3.74%<br/> "
   ]
  },
  {
   "cell_type": "code",
   "execution_count": 23,
   "metadata": {},
   "outputs": [
    {
     "data": {
      "text/plain": [
       "array(['Organic Staples', 'Frozen Veggies & Snacks',\n",
       "       'Rice & Rice Products', 'Cooking & Baking Needs',\n",
       "       'Drinks & Beverages', 'Fragrances & Deos', 'All Purpose Cleaners',\n",
       "       'Snacks, Dry Fruits, Nuts', 'Storage & Accessories',\n",
       "       'Fresheners & Repellents', 'Diapers & Wipes', 'Masalas & Spices',\n",
       "       'Tea', 'Snacks & Namkeen', 'Party & Festive Needs',\n",
       "       'Cereals & Breakfast', 'Tinned & Processed Food',\n",
       "       'Health & Medicine', 'Dry Fruits', 'Pooja Needs', 'Dairy',\n",
       "       'Appliances & Electricals', 'Hair Care', 'Ready To Cook & Eat',\n",
       "       'Pet Food & Accessories', 'Skin Care', 'Crockery & Cutlery',\n",
       "       \"Men's Grooming\", 'Fish & Seafood', 'Pasta, Soup & Noodles',\n",
       "       'Organic Fruits & Vegetables', 'Oils & Vinegar',\n",
       "       'Spreads, Sauces, Ketchup', 'Steel Utensils', 'Bakeware',\n",
       "       'Oral Care', 'Detergents & Dishwash', 'Bath & Hand Wash',\n",
       "       'Cakes & Pastries', 'Sauces, Spreads & Dips', 'Fresh Vegetables',\n",
       "       'Noodle, Pasta, Vermicelli', 'Bins & Bathroom Ware',\n",
       "       'Mops, Brushes & Scrubs', 'Chocolates & Biscuits',\n",
       "       'Health Drink, Supplement', 'Breakfast Cereals',\n",
       "       'Cookies, Rusk & Khari', 'Fruit Juices & Drinks',\n",
       "       'Feminine Hygiene', 'Baby Food & Formula',\n",
       "       'Disposables, Garbage Bag', 'Feeding & Nursing', 'Stationery',\n",
       "       'Kitchen Accessories', 'Makeup', 'Baby Bath & Hygiene',\n",
       "       'Sausages, Bacon & Salami', 'Eggs', 'Dairy & Cheese',\n",
       "       'Biscuits & Cookies', 'Atta, Flours & Sooji',\n",
       "       'Cookware & Non Stick', 'Fresh Fruits', 'Car & Shoe Care',\n",
       "       'Edible Oils & Ghee', 'Dals & Pulses', 'Gardening',\n",
       "       'Energy & Soft Drinks', 'Chocolates & Candies', 'Gourmet Breads',\n",
       "       'Exotic Fruits & Veggies', 'Indian Mithai', 'Mothers & Maternity',\n",
       "       'Water', 'Pickles & Chutney', 'Coffee', 'Salt, Sugar & Jaggery',\n",
       "       'Non Dairy', 'Flower Bouquets, Bunches', 'Herbs & Seasonings',\n",
       "       'Cuts & Sprouts', 'Flask & Casserole', 'Baby Accessories',\n",
       "       'Breads & Buns', 'Bakery Snacks', 'Mutton & Lamb',\n",
       "       'Ice Creams & Desserts', 'Pork & Other Meats', 'Marinades'],\n",
       "      dtype=object)"
      ]
     },
     "execution_count": 23,
     "metadata": {},
     "output_type": "execute_result"
    }
   ],
   "source": [
    "data_train['sub_category'].unique() # to get unique values of sub_category"
   ]
  },
  {
   "cell_type": "code",
   "execution_count": 24,
   "metadata": {},
   "outputs": [
    {
     "data": {
      "text/plain": [
       "[('Skin Care', 1814),\n",
       " ('Health & Medicine', 927),\n",
       " ('Hair Care', 830),\n",
       " ('Fragrances & Deos', 822),\n",
       " ('Storage & Accessories', 821),\n",
       " ('Bath & Hand Wash', 779),\n",
       " ('Masalas & Spices', 700),\n",
       " ('Crockery & Cutlery', 694),\n",
       " ('Snacks, Dry Fruits, Nuts', 677),\n",
       " (\"Men's Grooming\", 648)]"
      ]
     },
     "execution_count": 24,
     "metadata": {},
     "output_type": "execute_result"
    }
   ],
   "source": [
    "#  top 10 sub_categories\n",
    "subcategory_count=Counter(list(data_train['sub_category']))\n",
    "subcategory_count.most_common(10)"
   ]
  },
  {
   "cell_type": "code",
   "execution_count": 25,
   "metadata": {},
   "outputs": [
    {
     "data": {
      "text/html": [
       "<div>\n",
       "<style scoped>\n",
       "    .dataframe tbody tr th:only-of-type {\n",
       "        vertical-align: middle;\n",
       "    }\n",
       "\n",
       "    .dataframe tbody tr th {\n",
       "        vertical-align: top;\n",
       "    }\n",
       "\n",
       "    .dataframe thead th {\n",
       "        text-align: right;\n",
       "    }\n",
       "</style>\n",
       "<table border=\"1\" class=\"dataframe\">\n",
       "  <thead>\n",
       "    <tr style=\"text-align: right;\">\n",
       "      <th></th>\n",
       "      <th>sub_category</th>\n",
       "      <th>counts</th>\n",
       "    </tr>\n",
       "  </thead>\n",
       "  <tbody>\n",
       "    <tr>\n",
       "      <th>0</th>\n",
       "      <td>Skin Care</td>\n",
       "      <td>1814</td>\n",
       "    </tr>\n",
       "    <tr>\n",
       "      <th>1</th>\n",
       "      <td>Health &amp; Medicine</td>\n",
       "      <td>927</td>\n",
       "    </tr>\n",
       "    <tr>\n",
       "      <th>2</th>\n",
       "      <td>Hair Care</td>\n",
       "      <td>830</td>\n",
       "    </tr>\n",
       "    <tr>\n",
       "      <th>3</th>\n",
       "      <td>Fragrances &amp; Deos</td>\n",
       "      <td>822</td>\n",
       "    </tr>\n",
       "    <tr>\n",
       "      <th>4</th>\n",
       "      <td>Storage &amp; Accessories</td>\n",
       "      <td>821</td>\n",
       "    </tr>\n",
       "    <tr>\n",
       "      <th>5</th>\n",
       "      <td>Bath &amp; Hand Wash</td>\n",
       "      <td>779</td>\n",
       "    </tr>\n",
       "    <tr>\n",
       "      <th>6</th>\n",
       "      <td>Masalas &amp; Spices</td>\n",
       "      <td>700</td>\n",
       "    </tr>\n",
       "    <tr>\n",
       "      <th>7</th>\n",
       "      <td>Crockery &amp; Cutlery</td>\n",
       "      <td>694</td>\n",
       "    </tr>\n",
       "    <tr>\n",
       "      <th>8</th>\n",
       "      <td>Snacks, Dry Fruits, Nuts</td>\n",
       "      <td>677</td>\n",
       "    </tr>\n",
       "    <tr>\n",
       "      <th>9</th>\n",
       "      <td>Men's Grooming</td>\n",
       "      <td>648</td>\n",
       "    </tr>\n",
       "  </tbody>\n",
       "</table>\n",
       "</div>"
      ],
      "text/plain": [
       "               sub_category  counts\n",
       "0                 Skin Care    1814\n",
       "1         Health & Medicine     927\n",
       "2                 Hair Care     830\n",
       "3         Fragrances & Deos     822\n",
       "4     Storage & Accessories     821\n",
       "5          Bath & Hand Wash     779\n",
       "6          Masalas & Spices     700\n",
       "7        Crockery & Cutlery     694\n",
       "8  Snacks, Dry Fruits, Nuts     677\n",
       "9            Men's Grooming     648"
      ]
     },
     "execution_count": 25,
     "metadata": {},
     "output_type": "execute_result"
    }
   ],
   "source": [
    "d1=data_train['sub_category'].value_counts().reset_index()[0:10] # selecting top 10 sub categories\n",
    "d1.columns=['sub_category','counts'] # renaming colimns\n",
    "d1"
   ]
  },
  {
   "cell_type": "code",
   "execution_count": 26,
   "metadata": {},
   "outputs": [
    {
     "data": {
      "image/png": "[encoded data removed]",
      "text/plain": [
       "<Figure size 576x288 with 1 Axes>"
      ]
     },
     "metadata": {
      "needs_background": "light"
     },
     "output_type": "display_data"
    }
   ],
   "source": [
    "#ploting top 10 sub categories\n",
    "#https://matplotlib.org/stable/gallery/lines_bars_and_markers/barchart.html\n",
    "#https://matplotlib.org/stable/gallery/userdemo/annotate_explain.html?highlight=annot\n",
    "plt.figure(figsize=(8,4))\n",
    "ax=sns.barplot(x='sub_category',y='counts',data=d1,palette=\"Accent_d\")\n",
    "ax.set_xticklabels(ax.get_xticklabels(), rotation=40,ha=\"right\")\n",
    "\n",
    "# annotating values\n",
    "for bar in ax.patches: # annotating bar graph \n",
    "    ax.annotate(format(bar.get_height(), '.0f'),\n",
    "                   (bar.get_x() + bar.get_width() / 2,\n",
    "                    bar.get_height()), ha='center', va='center',\n",
    "                   size=8, xytext=(0, 3.5),\n",
    "                   textcoords='offset points')\n",
    "ax.set_title('Univariate Analysis of Sub_Category') # title the graph\n",
    "\n",
    "plt.show()"
   ]
  },
  {
   "cell_type": "code",
   "execution_count": 27,
   "metadata": {},
   "outputs": [
    {
     "data": {
      "text/plain": [
       "count      21951\n",
       "unique      2195\n",
       "top       Fresho\n",
       "freq         506\n",
       "Name: brand, dtype: object"
      ]
     },
     "execution_count": 27,
     "metadata": {},
     "output_type": "execute_result"
    }
   ],
   "source": [
    "# For Feature 'Brand'\n",
    "data_train['brand'].describe()"
   ]
  },
  {
   "cell_type": "code",
   "execution_count": 28,
   "metadata": {},
   "outputs": [
    {
     "data": {
      "text/plain": [
       "[('Fresho', 506),\n",
       " ('bb Royal', 429),\n",
       " ('BB Home', 350),\n",
       " ('DP', 194),\n",
       " ('Fresho Signature', 133),\n",
       " ('bb Combo', 130),\n",
       " ('Amul', 120),\n",
       " ('GoodDiet', 118),\n",
       " ('Dabur', 112),\n",
       " ('INATUR ', 111)]"
      ]
     },
     "execution_count": 28,
     "metadata": {},
     "output_type": "execute_result"
    }
   ],
   "source": [
    "#  top 10 brand\n",
    "brand_count=Counter(list(data_train['brand']))\n",
    "brand_count.most_common(10)"
   ]
  },
  {
   "cell_type": "code",
   "execution_count": 29,
   "metadata": {},
   "outputs": [
    {
     "data": {
      "text/plain": [
       "Fresho              2.305134\n",
       "bb Royal            1.954353\n",
       "BB Home             1.594460\n",
       "DP                  0.883787\n",
       "Fresho Signature    0.605895\n",
       "bb Combo            0.592228\n",
       "Amul                0.546672\n",
       "GoodDiet            0.537561\n",
       "Dabur               0.510227\n",
       "INATUR              0.505672\n",
       "Name: brand, dtype: float64"
      ]
     },
     "execution_count": 29,
     "metadata": {},
     "output_type": "execute_result"
    }
   ],
   "source": [
    "# percentage of top 10 brands\n",
    "(data_train['brand'].value_counts(normalize=True)*100)[:10]"
   ]
  },
  {
   "cell_type": "markdown",
   "metadata": {},
   "source": [
    "- There are 2195 unique brands \n",
    "- The brand which has highest number of products is Fresho - 506 counts - 2.3%"
   ]
  },
  {
   "cell_type": "code",
   "execution_count": 30,
   "metadata": {},
   "outputs": [
    {
     "data": {
      "text/plain": [
       "count         21951\n",
       "unique          423\n",
       "top       Face Care\n",
       "freq           1181\n",
       "Name: type, dtype: object"
      ]
     },
     "execution_count": 30,
     "metadata": {},
     "output_type": "execute_result"
    }
   ],
   "source": [
    "# For Feature 'type'\n",
    "data_train['type'].describe()"
   ]
  },
  {
   "cell_type": "code",
   "execution_count": 31,
   "metadata": {},
   "outputs": [
    {
     "data": {
      "text/plain": [
       "[('Face Care', 1181),\n",
       " ('Ayurveda', 444),\n",
       " (\"Men's Deodorants\", 407),\n",
       " ('Shampoo & Conditioner', 364),\n",
       " ('Containers Sets', 343),\n",
       " ('Glassware', 327),\n",
       " ('Bathing Bars & Soaps', 308),\n",
       " ('Blended Masalas', 306),\n",
       " ('Gourmet Tea & Tea Bags', 276),\n",
       " ('Body Care', 274)]"
      ]
     },
     "execution_count": 31,
     "metadata": {},
     "output_type": "execute_result"
    }
   ],
   "source": [
    "#  top 10 type of products\n",
    "type_count=Counter(list(data_train['type']))\n",
    "type_count.most_common(10)"
   ]
  },
  {
   "cell_type": "code",
   "execution_count": 32,
   "metadata": {},
   "outputs": [
    {
     "data": {
      "text/plain": [
       "Face Care                 5.380165\n",
       "Ayurveda                  2.022687\n",
       "Men's Deodorants          1.854130\n",
       "Shampoo & Conditioner     1.658239\n",
       "Containers Sets           1.562571\n",
       "Glassware                 1.489682\n",
       "Bathing Bars & Soaps      1.403125\n",
       "Blended Masalas           1.394014\n",
       "Gourmet Tea & Tea Bags    1.257346\n",
       "Body Care                 1.248235\n",
       "Name: type, dtype: float64"
      ]
     },
     "execution_count": 32,
     "metadata": {},
     "output_type": "execute_result"
    }
   ],
   "source": [
    "# percentage of top 10 types\n",
    "(data_train['type'].value_counts(normalize=True)*100)[:10]"
   ]
  },
  {
   "cell_type": "markdown",
   "metadata": {},
   "source": [
    "- There are 423 unique types of product \n",
    "- Face care is the top type of product with 1181 counts- 5.38%"
   ]
  },
  {
   "cell_type": "markdown",
   "metadata": {},
   "source": [
    "### sale_price"
   ]
  },
  {
   "cell_type": "code",
   "execution_count": 33,
   "metadata": {},
   "outputs": [
    {
     "data": {
      "text/plain": [
       "[(99.0, 325),\n",
       " (50.0, 260),\n",
       " (199.0, 248),\n",
       " (299.0, 240),\n",
       " (150.0, 237),\n",
       " (60.0, 232),\n",
       " (149.0, 203),\n",
       " (120.0, 197),\n",
       " (225.0, 197),\n",
       " (75.0, 194)]"
      ]
     },
     "execution_count": 33,
     "metadata": {},
     "output_type": "execute_result"
    }
   ],
   "source": [
    "#  top sale_price\n",
    "saleprice_count=Counter(list(data_train['sale_price']))\n",
    "saleprice_count.most_common(10)"
   ]
  },
  {
   "cell_type": "code",
   "execution_count": 34,
   "metadata": {},
   "outputs": [
    {
     "data": {
      "text/plain": [
       "12500.00     1\n",
       "10090.00     1\n",
       "8184.44      1\n",
       "7999.00      1\n",
       "7299.00      1\n",
       "            ..\n",
       "7.50         2\n",
       "6.00         7\n",
       "5.00        16\n",
       "3.00         1\n",
       "2.45         1\n",
       "Name: sale_price, Length: 2891, dtype: int64"
      ]
     },
     "execution_count": 34,
     "metadata": {},
     "output_type": "execute_result"
    }
   ],
   "source": [
    "data_train['sale_price'].value_counts().sort_index(ascending=False)"
   ]
  },
  {
   "cell_type": "code",
   "execution_count": 35,
   "metadata": {},
   "outputs": [
    {
     "data": {
      "text/plain": [
       "<matplotlib.axes._subplots.AxesSubplot at 0x226c3b4a4c0>"
      ]
     },
     "execution_count": 35,
     "metadata": {},
     "output_type": "execute_result"
    },
    {
     "data": {
      "image/png": "[encoded data removed]",
      "text/plain": [
       "<Figure size 720x360 with 1 Axes>"
      ]
     },
     "metadata": {},
     "output_type": "display_data"
    }
   ],
   "source": [
    "#CDF of sale_price\n",
    "sns.set(rc={'figure.figsize':(10,5)})\n",
    "sns.set_style('whitegrid')\n",
    "sns.ecdfplot(data_train['sale_price'])"
   ]
  },
  {
   "cell_type": "markdown",
   "metadata": {},
   "source": [
    "- 99% of products sale price is below 2000 in train data"
   ]
  },
  {
   "cell_type": "code",
   "execution_count": 36,
   "metadata": {},
   "outputs": [
    {
     "data": {
      "text/plain": [
       "<matplotlib.axes._subplots.AxesSubplot at 0x226c3e3e100>"
      ]
     },
     "execution_count": 36,
     "metadata": {},
     "output_type": "execute_result"
    },
    {
     "data": {
      "image/png": "[encoded data removed]",
      "text/plain": [
       "<Figure size 720x360 with 1 Axes>"
      ]
     },
     "metadata": {},
     "output_type": "display_data"
    }
   ],
   "source": [
    "# Univariate analysis of sale_price\n",
    "#Plotting of sale_price variable\n",
    "sns.set(rc={'figure.figsize':(10,5)})\n",
    "sns.set_style('white')\n",
    "sns.boxplot(y=data_train['sale_price'])"
   ]
  },
  {
   "cell_type": "code",
   "execution_count": 37,
   "metadata": {},
   "outputs": [
    {
     "data": {
      "image/png": "[encoded data removed]",
      "text/plain": [
       "<Figure size 720x360 with 1 Axes>"
      ]
     },
     "metadata": {},
     "output_type": "display_data"
    }
   ],
   "source": [
    "ypoints=np.array(data_train['sale_price'].sort_values())\n",
    "plt.plot(ypoints,'r-')\n",
    "plt.ylabel('sale_price')\n",
    "plt.grid()\n",
    "plt.show()"
   ]
  },
  {
   "cell_type": "markdown",
   "metadata": {},
   "source": [
    "- From the above line plot there is a steep change at sale_price 2000(Inflection point)\n",
    "- So will remove products whose sale_price is above 2000 "
   ]
  },
  {
   "cell_type": "code",
   "execution_count": 38,
   "metadata": {},
   "outputs": [
    {
     "data": {
      "text/plain": [
       "(303, 9)"
      ]
     },
     "execution_count": 38,
     "metadata": {},
     "output_type": "execute_result"
    }
   ],
   "source": [
    "# data with sale price greater than \n",
    "data_saleprice=data_train[data_train['sale_price']>2000]\n",
    "data_saleprice.shape"
   ]
  },
  {
   "cell_type": "code",
   "execution_count": 39,
   "metadata": {},
   "outputs": [
    {
     "name": "stdout",
     "output_type": "stream",
     "text": [
      "No. of data points after removing sale_price outliers: 21648\n"
     ]
    }
   ],
   "source": [
    "data_train=data_train[data_train['sale_price']<=2000]\n",
    "print(\"No. of data points after removing sale_price outliers:\",data_train.shape[0])"
   ]
  },
  {
   "cell_type": "markdown",
   "metadata": {},
   "source": [
    "- Datapoints reduced to 21648 (99.98% of original data)in train data from 21951 after removing products with sale price greater than 2000"
   ]
  },
  {
   "cell_type": "markdown",
   "metadata": {},
   "source": [
    "### Description feature"
   ]
  },
  {
   "cell_type": "code",
   "execution_count": 40,
   "metadata": {},
   "outputs": [
    {
     "data": {
      "text/plain": [
       "A brand inspired by the Greek goddess of victory, it personifies strength, speed and energy and it launched its first perfume in 1929. Since then, a wide assortment of fragrance collections has hit the marketplace with refreshing, and eye-catching proposals that capture the essence and lifestyle of today´s man and woman.                                                                                                                                                                                                                                                                                                                                                                                                                                                                                                                                                                                                                                                                                                                                                                                          37\n",
       "Now free your environment, and yourself from the unhealthy plastic bottles and get a healthier one-time product for all your needs. These high-grade stainless steel bottles are here to enhance your dining and travelling experience, saving you from the negative effects of plastic. The single-walled steel bottles are perfect add-ons to your kitchen collection if you are looking for light-weighed, durable, classy looking product. The bottle comes with sipper & wide mouth steel cap, catering to double usage. Be it going to the gym, or sending it with the kids to school, the colourful sipper can always make it a very convenient, handy and more importantly a style-statement product. You can take it to the office or just keep on the dinner table. Open the wide mouth lid and use at ease. The bottles come with the major USP of inter-changeable lid facility. Now you can make the same steel cap bottle as a sipper bottle by just interchanging the lids. Hence, get 2 of two-in-one featured bottles of same model and capacities and get the best of both, with a variety of colours!    32\n",
       "Energetic strong and stirred with action, X-MEN Charge Body Deodoratnt has the fragrance of pure desire in the most dashing way. Stay irrestible, 24x7.                                                                                                                                                                                                                                                                                                                                                                                                                                                                                                                                                                                                                                                                                                                                                                                                                                                                                                                                                                     30\n",
       "Baldessarini Ambre Cologne is built around a whisky accord and complemented by top notes of mandarin and red apple, leading to a heart of violet, offset by a leather accord. With a base that blends notes of amber, oakwood, vanilla and labdanum.  For Beauty tips, tricks & more visit https://bigbasket.blog/                                                                                                                                                                                                                                                                                                                                                                                                                                                                                                                                                                                                                                                                                                                                                                                                          27\n",
       "Fresho Organic products are organically grown and handpicked by expert.  Product image shown is for representation purpose only, the actually product may vary based on season, produce & availability.                                                                                                                                                                                                                                                                                                                                                                                                                                                                                                                                                                                                                                                                                                                                                                                                                                                                                                                     26\n",
       "                                                                                                                                                                                                                                                                                                                                                                                                                                                                                                                                                                                                                                                                                                                                                                                                                                                                                                                                                                                                                                                                                                                            ..\n",
       "Let your taste buds enjoy the tempting combination of peanut butter and dark chocolate! Combining the antioxidants in bittersweet dark chocolate with the vitamins and minerals found in peanut butter, this gutsy combo from Nutriwish is perfect for reducing inflammation and blood pressure and lowering the risk of heart disease and stroke. Go on a health spree with this delicious union! Nut Butter from Nutriwish has no added oil, no added sugar, no added salt and no added preservatives. They are made with 100% whole nuts.                                                                                                                                                                                                                                                                                                                                                                                                                                                                                                                                                                                 1\n",
       "To create this sunny and invigorating infusion, we have blended two of the world's best-loved ingredients; spicy, warming ginger with the bright, zesty taste of lemons. Herbs have a long history of documented use tracing back to Ancient Egypt, Ancient China and to the beginning of Ayurveda science in India. Herbal teas can be made from any combination of flowers, leaves, seeds, roots, citrus or berry fruits herbs and spices-which is why the number of unique blends available is virtually limitless. Camomile, Peppermint, Ginger and Hibiscus are some of the most popular ingredients used today.                                                                                                                                                                                                                                                                                                                                                                                                                                                                                                        1\n",
       "A refined and a sophisticated French fragrance, this masculine fresh aqueous Eau de Parfum caters to the contemporary tastes of energetic and spirited young men. Introducing tangy aromas of the summer, Blu by Ajmalâ€™s composition offers a refreshing choice for men with a penchant for the great outdoors. A distinguished icy aroma that articulately blends top fresh notes comprised of Bergamot, Lavender and Watermelon with invigorating ingredients like Lotus and Jasmine that form the core of the fragrance. Blu by Ajmal resonates with Sandalwood, Musk and Amber at the base.                                                                                                                                                                                                                                                                                                                                                                                                                                                                                                                            1\n",
       "Ullas Pure Sambrani, mainly used for puja purposes, is hand-rolled which gives you an authentic experience. The rare forest flower fragrance takes you to the nature's world.                                                                                                                                                                                                                                                                                                                                                                                                                                                                                                                                                                                                                                                                                                                                                                                                                                                                                                                                                1\n",
       "The delicious blend of antioxidant-rich dark chocolate and fragrant orange zest is a perfect treat for when you need a guilt-free indulgence. Let our velvety dark chocolate along with crunchy pistachios, super seeds and tangy orange zest tantalise your taste buds. Crafted from the finest ingredients from around the world, this bar is packed with vitamin c, omega 3, fibre and essential amino acids. A winning combination since time immemorial, say goodbye to those dessert cravings!                                                                                                                                                                                                                                                                                                                                                                                                                                                                                                                                                                                                                         1\n",
       "Name: description, Length: 17881, dtype: int64"
      ]
     },
     "execution_count": 40,
     "metadata": {},
     "output_type": "execute_result"
    }
   ],
   "source": [
    "data_train['description'].value_counts()"
   ]
  },
  {
   "cell_type": "code",
   "execution_count": 41,
   "metadata": {},
   "outputs": [
    {
     "data": {
      "text/plain": [
       "0"
      ]
     },
     "execution_count": 41,
     "metadata": {},
     "output_type": "execute_result"
    }
   ],
   "source": [
    "data_train['description'].isna().sum() # to check for any missing values"
   ]
  },
  {
   "cell_type": "code",
   "execution_count": 42,
   "metadata": {},
   "outputs": [
    {
     "data": {
      "text/plain": [
       "0"
      ]
     },
     "execution_count": 42,
     "metadata": {},
     "output_type": "execute_result"
    }
   ],
   "source": [
    "data_train[data_train['description']==u' '].any().sum() # to check for just space in description"
   ]
  },
  {
   "cell_type": "markdown",
   "metadata": {},
   "source": [
    "## Data Preprocessing"
   ]
  },
  {
   "cell_type": "code",
   "execution_count": 43,
   "metadata": {},
   "outputs": [
    {
     "name": "stderr",
     "output_type": "stream",
     "text": [
      "[nltk_data] Downloading package stopwords to\n",
      "[nltk_data]     C:\\Users\\Muheebpashasnr\\AppData\\Roaming\\nltk_data...\n"
     ]
    },
    {
     "name": "stdout",
     "output_type": "stream",
     "text": [
      "list of stop words: {'are', 'ma', \"shan't\", 'it', 'will', 'does', 'most', 'her', 'is', 'itself', 'not', 'if', 'themselves', 'himself', 've', 'once', 'from', 's', 'whom', 'won', 'so', 'hasn', 'mightn', 'yourself', 'can', \"doesn't\", 'have', 'down', 'no', \"you'd\", 'haven', 'd', 'shouldn', 'an', \"you're\", 'into', 'those', 'than', 'his', 'were', 'all', 'the', 'there', 'which', 'until', 'against', 'over', 'through', 'now', 'theirs', 'who', 'more', 'nor', 'yours', 'you', 'off', \"won't\", 'don', 'your', 'what', 'some', 'a', 'and', 'any', 'couldn', 'i', 'at', 'this', 'doing', 'weren', 'during', 'own', \"shouldn't\", 'where', \"mustn't\", 'again', 'only', 'they', 'out', \"haven't\", 'their', 'm', 'she', 'having', 'herself', 'to', 'am', 'needn', 'our', \"that'll\", 'such', 'ourselves', 'with', 'should', 'hadn', 'each', 'above', 'too', 'when', 'before', 'in', 'do', 're', 'y', 'for', 'then', 'between', 'wouldn', 'him', 'its', 'hers', 'by', 'up', \"you'll\", 'that', \"it's\", 'both', 'didn', 'doesn', 'or', 'further', 'ours', 'was', 'very', 'had', \"wouldn't\", 'how', 'wasn', \"hadn't\", \"mightn't\", 't', 'as', 'isn', 'here', \"weren't\", 'other', \"don't\", 'yourselves', \"needn't\", 'he', \"you've\", 'we', 'of', 'because', 'just', 'has', 'about', \"isn't\", 'o', \"aren't\", 'me', 'aren', 'few', \"should've\", 'on', 'shan', 'myself', \"she's\", 'be', 'll', \"didn't\", 'being', 'did', 'under', 'mustn', 'while', \"hasn't\", 'but', 'ain', 'why', 'them', 'been', 'below', 'after', \"wasn't\", 'same', \"couldn't\", 'these', 'my'}\n"
     ]
    },
    {
     "name": "stderr",
     "output_type": "stream",
     "text": [
      "[nltk_data]   Package stopwords is already up-to-date!\n"
     ]
    }
   ],
   "source": [
    "# we use the list of stop words that are downloaded from nltk lib.\n",
    "import nltk # to download only once\n",
    "nltk.download('stopwords')\n",
    "stop_words = set(stopwords.words('english'))\n",
    "print ('list of stop words:', stop_words)"
   ]
  },
  {
   "cell_type": "markdown",
   "metadata": {},
   "source": [
    "### Categorical  features `'Category','sub_category','brand','type'`"
   ]
  },
  {
   "cell_type": "code",
   "execution_count": 44,
   "metadata": {},
   "outputs": [],
   "source": [
    "# preprocressing category feature\n",
    "## https://stackoverflow.com/questions/36383821/pandas-dataframe-apply-function-to-column-strings-based-on-other-column-value\n",
    "def preprocess_categorical(data,column_name):\n",
    "    \"\"\" fuction to preprocess categorical data column\"\"\"\n",
    "    \n",
    "    data[column_name]=data[column_name].str.replace('&','_') # replacing & with _\n",
    "    data[column_name]=data[column_name].str.replace(',','_') # replacing , with _\n",
    "    data[column_name]=data[column_name].str.replace(\"'\",'') #replacing ' with ''(no space)\n",
    "    data[column_name]=data[column_name].str.replace(\" \",'') # removing white spaces\n",
    "    data[column_name]=data[column_name].str.lower() # to lower case\n",
    "    data[column_name]=data[column_name].str.strip() # removing trailing and leading white space\n",
    "    \n",
    "    return data[column_name]"
   ]
  },
  {
   "cell_type": "code",
   "execution_count": 45,
   "metadata": {},
   "outputs": [],
   "source": [
    "data_train['category']=preprocess_categorical(data_train,'category')"
   ]
  },
  {
   "cell_type": "code",
   "execution_count": 46,
   "metadata": {},
   "outputs": [
    {
     "data": {
      "text/plain": [
       "array(['foodgrains_oil_masala', 'snacks_brandedfoods',\n",
       "       'gourmet_worldfood', 'beauty_hygiene', 'cleaning_household',\n",
       "       'kitchen_garden_pets', 'babycare', 'beverages',\n",
       "       'bakery_cakes_dairy', 'eggs_meat_fish', 'fruits_vegetables'],\n",
       "      dtype=object)"
      ]
     },
     "execution_count": 46,
     "metadata": {},
     "output_type": "execute_result"
    }
   ],
   "source": [
    "data_train['category'].unique() # to check"
   ]
  },
  {
   "cell_type": "code",
   "execution_count": 47,
   "metadata": {},
   "outputs": [],
   "source": [
    "data_train['sub_category']=preprocess_categorical(data_train,'sub_category')"
   ]
  },
  {
   "cell_type": "code",
   "execution_count": 48,
   "metadata": {},
   "outputs": [
    {
     "data": {
      "text/plain": [
       "array(['organicstaples', 'frozenveggies_snacks', 'rice_riceproducts',\n",
       "       'cooking_bakingneeds', 'drinks_beverages', 'fragrances_deos',\n",
       "       'allpurposecleaners', 'snacks_dryfruits_nuts',\n",
       "       'storage_accessories', 'fresheners_repellents', 'diapers_wipes',\n",
       "       'masalas_spices', 'tea', 'snacks_namkeen', 'party_festiveneeds',\n",
       "       'cereals_breakfast', 'tinned_processedfood', 'dryfruits',\n",
       "       'health_medicine', 'poojaneeds', 'dairy', 'appliances_electricals',\n",
       "       'haircare', 'readytocook_eat', 'petfood_accessories', 'skincare',\n",
       "       'crockery_cutlery', 'mensgrooming', 'fish_seafood',\n",
       "       'pasta_soup_noodles', 'organicfruits_vegetables',\n",
       "       'spreads_sauces_ketchup', 'steelutensils', 'bakeware', 'oralcare',\n",
       "       'detergents_dishwash', 'bath_handwash', 'cakes_pastries',\n",
       "       'sauces_spreads_dips', 'freshvegetables',\n",
       "       'noodle_pasta_vermicelli', 'bins_bathroomware',\n",
       "       'mops_brushes_scrubs', 'chocolates_biscuits',\n",
       "       'healthdrink_supplement', 'breakfastcereals', 'cookies_rusk_khari',\n",
       "       'fruitjuices_drinks', 'femininehygiene', 'babyfood_formula',\n",
       "       'disposables_garbagebag', 'feeding_nursing', 'stationery',\n",
       "       'kitchenaccessories', 'makeup', 'babybath_hygiene',\n",
       "       'sausages_bacon_salami', 'eggs', 'dairy_cheese',\n",
       "       'biscuits_cookies', 'atta_flours_sooji', 'freshfruits',\n",
       "       'car_shoecare', 'oils_vinegar', 'cookware_nonstick',\n",
       "       'edibleoils_ghee', 'dals_pulses', 'gardening', 'energy_softdrinks',\n",
       "       'chocolates_candies', 'gourmetbreads', 'exoticfruits_veggies',\n",
       "       'indianmithai', 'mothers_maternity', 'water', 'pickles_chutney',\n",
       "       'coffee', 'salt_sugar_jaggery', 'nondairy',\n",
       "       'flowerbouquets_bunches', 'herbs_seasonings', 'cuts_sprouts',\n",
       "       'flask_casserole', 'babyaccessories', 'breads_buns',\n",
       "       'bakerysnacks', 'mutton_lamb', 'icecreams_desserts',\n",
       "       'pork_othermeats', 'marinades'], dtype=object)"
      ]
     },
     "execution_count": 48,
     "metadata": {},
     "output_type": "execute_result"
    }
   ],
   "source": [
    "data_train['sub_category'].unique()"
   ]
  },
  {
   "cell_type": "code",
   "execution_count": 49,
   "metadata": {},
   "outputs": [],
   "source": [
    "data_train['brand']=preprocess_categorical(data_train,'brand')"
   ]
  },
  {
   "cell_type": "code",
   "execution_count": 50,
   "metadata": {},
   "outputs": [
    {
     "data": {
      "text/plain": [
       "2158"
      ]
     },
     "execution_count": 50,
     "metadata": {},
     "output_type": "execute_result"
    }
   ],
   "source": [
    "data_train['brand'].nunique()"
   ]
  },
  {
   "cell_type": "code",
   "execution_count": 51,
   "metadata": {},
   "outputs": [],
   "source": [
    "data_train['type']=preprocess_categorical(data_train,'type')"
   ]
  },
  {
   "cell_type": "code",
   "execution_count": 52,
   "metadata": {},
   "outputs": [
    {
     "data": {
      "text/plain": [
       "422"
      ]
     },
     "execution_count": 52,
     "metadata": {},
     "output_type": "execute_result"
    }
   ],
   "source": [
    "data_train['type'].nunique()"
   ]
  },
  {
   "cell_type": "markdown",
   "metadata": {},
   "source": [
    "### Description Feature"
   ]
  },
  {
   "cell_type": "code",
   "execution_count": 53,
   "metadata": {},
   "outputs": [],
   "source": [
    "# preprocessing description\n",
    "#https://stackoverflow.com/questions/30129936/python-regex-replace-sentence-with-starting-word\n",
    "#https://stackoverflow.com/questions/11331982/how-to-remove-any-url-within-a-string-in-python\n",
    "from tqdm import tqdm\n",
    "import re\n",
    "def preprocess_description(text):\n",
    "    \"\"\" Function which does preprocesiing on prodcut title feature,\n",
    "        removes stopwords, replaces special character with space, converts to lower case,\n",
    "    \"\"\"\n",
    "    preprocessed_description=[]\n",
    "    for description in tqdm(text):\n",
    "        \n",
    "        #Delete all the data which are present in the brackets\n",
    "        description = re.sub(r'\\([^()]*\\)',' ',description)\n",
    "        \n",
    "        #removing urls\n",
    "        description = re.sub(r'http\\S+',' ',description)\n",
    "        description = re.sub('[^A-Za-z]+', ' ', description) # remove all characters except a-z and A-Z and replace with white space\n",
    "        # https://gist.github.com/sebleier/554280\n",
    "        description = ' '.join(word for word in description.split() if word.lower() not in stop_words) # removing stop words\n",
    "        description = ' '.join(word for word in description.split() if len(word)>2) # removing single letter and two letter words\n",
    "        description = description.lower().strip()\n",
    "        preprocessed_description.append(description)\n",
    "        \n",
    "    return preprocessed_description"
   ]
  },
  {
   "cell_type": "code",
   "execution_count": 54,
   "metadata": {},
   "outputs": [
    {
     "name": "stderr",
     "output_type": "stream",
     "text": [
      "100%|█████████████████████████████████| 21648/21648 [00:02<00:00, 10061.89it/s]\n"
     ]
    }
   ],
   "source": [
    "preprocessed_description=preprocess_description(data_train['description'].values)"
   ]
  },
  {
   "cell_type": "code",
   "execution_count": 55,
   "metadata": {},
   "outputs": [],
   "source": [
    "data_train['description']=preprocessed_description"
   ]
  },
  {
   "cell_type": "code",
   "execution_count": 56,
   "metadata": {},
   "outputs": [
    {
     "data": {
      "text/html": [
       "<div>\n",
       "<style scoped>\n",
       "    .dataframe tbody tr th:only-of-type {\n",
       "        vertical-align: middle;\n",
       "    }\n",
       "\n",
       "    .dataframe tbody tr th {\n",
       "        vertical-align: top;\n",
       "    }\n",
       "\n",
       "    .dataframe thead th {\n",
       "        text-align: right;\n",
       "    }\n",
       "</style>\n",
       "<table border=\"1\" class=\"dataframe\">\n",
       "  <thead>\n",
       "    <tr style=\"text-align: right;\">\n",
       "      <th></th>\n",
       "      <th>product</th>\n",
       "      <th>category</th>\n",
       "      <th>sub_category</th>\n",
       "      <th>brand</th>\n",
       "      <th>type</th>\n",
       "      <th>description</th>\n",
       "      <th>sale_price</th>\n",
       "      <th>market_price</th>\n",
       "      <th>discount_%</th>\n",
       "    </tr>\n",
       "  </thead>\n",
       "  <tbody>\n",
       "    <tr>\n",
       "      <th>0</th>\n",
       "      <td>Flour - Corn</td>\n",
       "      <td>foodgrains_oil_masala</td>\n",
       "      <td>organicstaples</td>\n",
       "      <td>organictattva</td>\n",
       "      <td>organicflours</td>\n",
       "      <td>per calories fat</td>\n",
       "      <td>57.00</td>\n",
       "      <td>60.0</td>\n",
       "      <td>0.050000</td>\n",
       "    </tr>\n",
       "    <tr>\n",
       "      <th>1</th>\n",
       "      <td>Veg. Burger Patty</td>\n",
       "      <td>snacks_brandedfoods</td>\n",
       "      <td>frozenveggies_snacks</td>\n",
       "      <td>yummiez</td>\n",
       "      <td>frozenvegsnacks</td>\n",
       "      <td>real good veg burger patty choice eating beefy...</td>\n",
       "      <td>125.00</td>\n",
       "      <td>125.0</td>\n",
       "      <td>0.000000</td>\n",
       "    </tr>\n",
       "    <tr>\n",
       "      <th>2</th>\n",
       "      <td>Dosa Rice/Akki</td>\n",
       "      <td>foodgrains_oil_masala</td>\n",
       "      <td>rice_riceproducts</td>\n",
       "      <td>supersaver</td>\n",
       "      <td>rawrice</td>\n",
       "      <td>rice dosa easy make premium dosa mix used make...</td>\n",
       "      <td>199.00</td>\n",
       "      <td>225.0</td>\n",
       "      <td>0.115556</td>\n",
       "    </tr>\n",
       "    <tr>\n",
       "      <th>3</th>\n",
       "      <td>Skimmed Milk Powder</td>\n",
       "      <td>gourmet_worldfood</td>\n",
       "      <td>cooking_bakingneeds</td>\n",
       "      <td>puramate</td>\n",
       "      <td>baking_cakedecorations</td>\n",
       "      <td>puramate skimmed milk powder makes wholesome m...</td>\n",
       "      <td>58.50</td>\n",
       "      <td>65.0</td>\n",
       "      <td>0.100000</td>\n",
       "    </tr>\n",
       "    <tr>\n",
       "      <th>4</th>\n",
       "      <td>Kiwi Drink</td>\n",
       "      <td>gourmet_worldfood</td>\n",
       "      <td>drinks_beverages</td>\n",
       "      <td>alafresh</td>\n",
       "      <td>gourmetjuices_drinks</td>\n",
       "      <td>ala fresh kiwi fruit drink refreshing fruit dr...</td>\n",
       "      <td>10.00</td>\n",
       "      <td>10.0</td>\n",
       "      <td>0.000000</td>\n",
       "    </tr>\n",
       "    <tr>\n",
       "      <th>...</th>\n",
       "      <td>...</td>\n",
       "      <td>...</td>\n",
       "      <td>...</td>\n",
       "      <td>...</td>\n",
       "      <td>...</td>\n",
       "      <td>...</td>\n",
       "      <td>...</td>\n",
       "      <td>...</td>\n",
       "      <td>...</td>\n",
       "    </tr>\n",
       "    <tr>\n",
       "      <th>21946</th>\n",
       "      <td>Tea Tree Anti Imperfection Daily Solution</td>\n",
       "      <td>beauty_hygiene</td>\n",
       "      <td>skincare</td>\n",
       "      <td>biotique</td>\n",
       "      <td>facecare</td>\n",
       "      <td>biotique tea tree anti imperfection daily solu...</td>\n",
       "      <td>420.00</td>\n",
       "      <td>560.0</td>\n",
       "      <td>0.250000</td>\n",
       "    </tr>\n",
       "    <tr>\n",
       "      <th>21947</th>\n",
       "      <td>Intimate Lightening Serum</td>\n",
       "      <td>beauty_hygiene</td>\n",
       "      <td>skincare</td>\n",
       "      <td>namyaa</td>\n",
       "      <td>intimatewash_care</td>\n",
       "      <td>adore flawless skin wish perfect skin tone fee...</td>\n",
       "      <td>750.00</td>\n",
       "      <td>750.0</td>\n",
       "      <td>0.000000</td>\n",
       "    </tr>\n",
       "    <tr>\n",
       "      <th>21948</th>\n",
       "      <td>Paw'sitively Smooth Paw Butter For Dogs</td>\n",
       "      <td>kitchen_garden_pets</td>\n",
       "      <td>petfood_accessories</td>\n",
       "      <td>captainzack</td>\n",
       "      <td>petcleaning_grooming</td>\n",
       "      <td>paw sitively smooth protects lovely pooch paws...</td>\n",
       "      <td>350.00</td>\n",
       "      <td>350.0</td>\n",
       "      <td>0.000000</td>\n",
       "    </tr>\n",
       "    <tr>\n",
       "      <th>21949</th>\n",
       "      <td>Colorsilk Hair Colour With Keratin</td>\n",
       "      <td>beauty_hygiene</td>\n",
       "      <td>haircare</td>\n",
       "      <td>revlon</td>\n",
       "      <td>haircolor</td>\n",
       "      <td>colorsilk ammonia permanent hair colour infuse...</td>\n",
       "      <td>413.25</td>\n",
       "      <td>435.0</td>\n",
       "      <td>0.050000</td>\n",
       "    </tr>\n",
       "    <tr>\n",
       "      <th>21950</th>\n",
       "      <td>Wet Mop - Micro Fiber Floor Square Refill</td>\n",
       "      <td>cleaning_household</td>\n",
       "      <td>mops_brushes_scrubs</td>\n",
       "      <td>liao</td>\n",
       "      <td>mops_wipers</td>\n",
       "      <td>refill pack adjustable major brands light weig...</td>\n",
       "      <td>239.00</td>\n",
       "      <td>395.0</td>\n",
       "      <td>0.394937</td>\n",
       "    </tr>\n",
       "  </tbody>\n",
       "</table>\n",
       "<p>21648 rows × 9 columns</p>\n",
       "</div>"
      ],
      "text/plain": [
       "                                         product               category  \\\n",
       "0                                   Flour - Corn  foodgrains_oil_masala   \n",
       "1                              Veg. Burger Patty    snacks_brandedfoods   \n",
       "2                                 Dosa Rice/Akki  foodgrains_oil_masala   \n",
       "3                            Skimmed Milk Powder      gourmet_worldfood   \n",
       "4                                     Kiwi Drink      gourmet_worldfood   \n",
       "...                                          ...                    ...   \n",
       "21946  Tea Tree Anti Imperfection Daily Solution         beauty_hygiene   \n",
       "21947                  Intimate Lightening Serum         beauty_hygiene   \n",
       "21948    Paw'sitively Smooth Paw Butter For Dogs    kitchen_garden_pets   \n",
       "21949         Colorsilk Hair Colour With Keratin         beauty_hygiene   \n",
       "21950  Wet Mop - Micro Fiber Floor Square Refill     cleaning_household   \n",
       "\n",
       "               sub_category          brand                    type  \\\n",
       "0            organicstaples  organictattva           organicflours   \n",
       "1      frozenveggies_snacks        yummiez         frozenvegsnacks   \n",
       "2         rice_riceproducts     supersaver                 rawrice   \n",
       "3       cooking_bakingneeds       puramate  baking_cakedecorations   \n",
       "4          drinks_beverages       alafresh    gourmetjuices_drinks   \n",
       "...                     ...            ...                     ...   \n",
       "21946              skincare       biotique                facecare   \n",
       "21947              skincare         namyaa       intimatewash_care   \n",
       "21948   petfood_accessories    captainzack    petcleaning_grooming   \n",
       "21949              haircare         revlon               haircolor   \n",
       "21950   mops_brushes_scrubs           liao             mops_wipers   \n",
       "\n",
       "                                             description  sale_price  \\\n",
       "0                                       per calories fat       57.00   \n",
       "1      real good veg burger patty choice eating beefy...      125.00   \n",
       "2      rice dosa easy make premium dosa mix used make...      199.00   \n",
       "3      puramate skimmed milk powder makes wholesome m...       58.50   \n",
       "4      ala fresh kiwi fruit drink refreshing fruit dr...       10.00   \n",
       "...                                                  ...         ...   \n",
       "21946  biotique tea tree anti imperfection daily solu...      420.00   \n",
       "21947  adore flawless skin wish perfect skin tone fee...      750.00   \n",
       "21948  paw sitively smooth protects lovely pooch paws...      350.00   \n",
       "21949  colorsilk ammonia permanent hair colour infuse...      413.25   \n",
       "21950  refill pack adjustable major brands light weig...      239.00   \n",
       "\n",
       "       market_price  discount_%  \n",
       "0              60.0    0.050000  \n",
       "1             125.0    0.000000  \n",
       "2             225.0    0.115556  \n",
       "3              65.0    0.100000  \n",
       "4              10.0    0.000000  \n",
       "...             ...         ...  \n",
       "21946         560.0    0.250000  \n",
       "21947         750.0    0.000000  \n",
       "21948         350.0    0.000000  \n",
       "21949         435.0    0.050000  \n",
       "21950         395.0    0.394937  \n",
       "\n",
       "[21648 rows x 9 columns]"
      ]
     },
     "execution_count": 56,
     "metadata": {},
     "output_type": "execute_result"
    }
   ],
   "source": [
    "data_train"
   ]
  },
  {
   "cell_type": "code",
   "execution_count": 57,
   "metadata": {},
   "outputs": [
    {
     "name": "stdout",
     "output_type": "stream",
     "text": [
      "Printing some random description values\n",
      "--------------------------------------------------\n",
      "[9] lunch box elegant trendy product asian plastics outer body lid made food grade material inner bowl lid made top quality stainless steel keeping food fresh longer period time lunch box also comes handle easy carrying\n",
      "--------------------------------------------------\n",
      "[288] britannia treat wafers strawberry discovering journey taste filled layers crispy wafers strawberry flavour gives taste buds delectable taste crunchiness wafers adds newness believing delivering fresh healthy products britannia india manufactures india favourite brands like tiger nutrichoice bourbon good day milk bikis little hearts\n",
      "--------------------------------------------------\n",
      "[457] aloe veda lavender face cleanser tea tree oil oil free non comedogenic formula containing active ingredients destroy bacteria face pores lead breakouts inflammation mild enough cause irritation inflammation skin oil free non comedogenic clog pores face cleanse skin bacteria dirt excess oils toxins dead skin cells aid face shedding old skin allowing new baby skin grow place enriched aloe vera moisturizing plant glycerin allantoin strip face natural oils contain harsh ingredients alpha hydroxy acids parabens alcohol rinses easily ensuring skin get dry itchy due sticky film deposited contains pure essential oils nutrients suit skin type formula cruelty free vegetarian\n",
      "--------------------------------------------------\n"
     ]
    }
   ],
   "source": [
    "print('Printing some random description values')\n",
    "print('-'*50)\n",
    "print('[9]',data_train['description'][9])\n",
    "print('-'*50)\n",
    "print('[288]',data_train['description'][288])\n",
    "print('-'*50)\n",
    "print('[457]',data_train['description'][457])\n",
    "print('-'*50)"
   ]
  },
  {
   "cell_type": "code",
   "execution_count": 58,
   "metadata": {},
   "outputs": [
    {
     "data": {
      "text/plain": [
       "[<matplotlib.axis.XTick at 0x226c6c77850>,\n",
       " <matplotlib.axis.XTick at 0x226c6c77820>,\n",
       " <matplotlib.axis.XTick at 0x226c6c89d30>,\n",
       " <matplotlib.axis.XTick at 0x226c6cc7970>,\n",
       " <matplotlib.axis.XTick at 0x226c6cc7e80>,\n",
       " <matplotlib.axis.XTick at 0x226c6ccf3d0>,\n",
       " <matplotlib.axis.XTick at 0x226c6ccf8e0>,\n",
       " <matplotlib.axis.XTick at 0x226c6c78490>,\n",
       " <matplotlib.axis.XTick at 0x226c8cda1c0>,\n",
       " <matplotlib.axis.XTick at 0x226c8cda6a0>,\n",
       " <matplotlib.axis.XTick at 0x226c8cdabb0>,\n",
       " <matplotlib.axis.XTick at 0x226c8cdd100>,\n",
       " <matplotlib.axis.XTick at 0x226c8cdd610>,\n",
       " <matplotlib.axis.XTick at 0x226c8cda910>,\n",
       " <matplotlib.axis.XTick at 0x226c8cd4910>,\n",
       " <matplotlib.axis.XTick at 0x226c6cc7670>,\n",
       " <matplotlib.axis.XTick at 0x226c6cb7820>,\n",
       " <matplotlib.axis.XTick at 0x226c6c89e50>,\n",
       " <matplotlib.axis.XTick at 0x226c8cdd220>,\n",
       " <matplotlib.axis.XTick at 0x226c8cddfa0>,\n",
       " <matplotlib.axis.XTick at 0x226c8ce44f0>]"
      ]
     },
     "execution_count": 58,
     "metadata": {},
     "output_type": "execute_result"
    },
    {
     "data": {
      "image/png": "[encoded data removed]",
      "text/plain": [
       "<Figure size 720x360 with 1 Axes>"
      ]
     },
     "metadata": {},
     "output_type": "display_data"
    }
   ],
   "source": [
    "# Univariate analysis of discount_%\n",
    "#Plotting of discount_% variable\n",
    "sns.set(rc={'figure.figsize':(10,5)})\n",
    "sns.set_style('white')\n",
    "g=sns.distplot(data_train['discount_%']*100,bins=20)\n",
    "g.set_xticks(np.arange(0,101,5))"
   ]
  },
  {
   "cell_type": "code",
   "execution_count": 59,
   "metadata": {},
   "outputs": [
    {
     "data": {
      "text/plain": [
       "<matplotlib.axes._subplots.AxesSubplot at 0x226c3c838e0>"
      ]
     },
     "execution_count": 59,
     "metadata": {},
     "output_type": "execute_result"
    },
    {
     "data": {
      "image/png": "[encoded data removed]",
      "text/plain": [
       "<Figure size 720x360 with 1 Axes>"
      ]
     },
     "metadata": {},
     "output_type": "display_data"
    }
   ],
   "source": [
    "#CDF of discount_%\n",
    "sns.set(rc={'figure.figsize':(10,5)})\n",
    "sns.set_style('whitegrid')\n",
    "sns.ecdfplot(data_train['discount_%']*100)"
   ]
  },
  {
   "cell_type": "markdown",
   "metadata": {},
   "source": [
    "- Approx 46% of products have No discount(zero discount)\n",
    "- Maximum discount for a product is 60% which is only for a small potion of total products(i.e,~1%)\n",
    "- ~ 30% of products have discount from 1 to 20%\n",
    "- ~ 15% of products have discount in range of 21-40% of market_price"
   ]
  },
  {
   "cell_type": "markdown",
   "metadata": {},
   "source": [
    "### <u/> Clustering Analysis\n",
    "- will compute sentiment scores for description text which we will use in clustering analysis"
   ]
  },
  {
   "cell_type": "code",
   "execution_count": 60,
   "metadata": {},
   "outputs": [
    {
     "name": "stderr",
     "output_type": "stream",
     "text": [
      "[nltk_data] Downloading package vader_lexicon to\n",
      "[nltk_data]     C:\\Users\\Muheebpashasnr\\AppData\\Roaming\\nltk_data...\n",
      "[nltk_data]   Package vader_lexicon is already up-to-date!\n"
     ]
    },
    {
     "data": {
      "text/plain": [
       "True"
      ]
     },
     "execution_count": 60,
     "metadata": {},
     "output_type": "execute_result"
    }
   ],
   "source": [
    "# computing sentiment score for description feature\n",
    "import nltk\n",
    "nltk.download('vader_lexicon')"
   ]
  },
  {
   "cell_type": "code",
   "execution_count": 61,
   "metadata": {},
   "outputs": [
    {
     "name": "stderr",
     "output_type": "stream",
     "text": [
      "100%|███████████████████████████████████| 21648/21648 [01:18<00:00, 276.76it/s]\n"
     ]
    }
   ],
   "source": [
    "from nltk.sentiment.vader import SentimentIntensityAnalyzer\n",
    "from tqdm import tqdm\n",
    "sia=SentimentIntensityAnalyzer()\n",
    "\n",
    "# saving sentiment scores in list \n",
    "negative=[]\n",
    "neu=[]\n",
    "pos=[]\n",
    "compound=[]\n",
    "\n",
    "for description in tqdm(data_train['description']):\n",
    "    i=sia.polarity_scores(description)['neg']\n",
    "    j=sia.polarity_scores(description)['neu']\n",
    "    k=sia.polarity_scores(description)['pos']\n",
    "    l=sia.polarity_scores(description)['compound']\n",
    "    negative.append(i)\n",
    "    neu.append(j)\n",
    "    pos.append(k)\n",
    "    compound.append(l)"
   ]
  },
  {
   "cell_type": "code",
   "execution_count": 62,
   "metadata": {},
   "outputs": [],
   "source": [
    "# adding sentiment intensity analyser scores to dataframe as columns\n",
    "data_train['negative']=negative\n",
    "data_train['neutral']=neu\n",
    "data_train['positive']=pos\n",
    "data_train['compound']=compound"
   ]
  },
  {
   "cell_type": "code",
   "execution_count": 63,
   "metadata": {},
   "outputs": [
    {
     "data": {
      "text/plain": [
       "count    21648.000000\n",
       "mean       279.441729\n",
       "std        295.756692\n",
       "min          2.450000\n",
       "25%         94.500000\n",
       "50%        189.000000\n",
       "75%        349.000000\n",
       "max       2000.000000\n",
       "Name: sale_price, dtype: float64"
      ]
     },
     "execution_count": 63,
     "metadata": {},
     "output_type": "execute_result"
    }
   ],
   "source": [
    "data_train['sale_price'].describe()"
   ]
  },
  {
   "cell_type": "code",
   "execution_count": 64,
   "metadata": {},
   "outputs": [
    {
     "data": {
      "text/plain": [
       "2.45"
      ]
     },
     "execution_count": 64,
     "metadata": {},
     "output_type": "execute_result"
    }
   ],
   "source": [
    "sale_price_min=data_train['sale_price'].min()\n",
    "sale_price_min"
   ]
  },
  {
   "cell_type": "code",
   "execution_count": 65,
   "metadata": {},
   "outputs": [
    {
     "data": {
      "text/plain": [
       "2000.0"
      ]
     },
     "execution_count": 65,
     "metadata": {},
     "output_type": "execute_result"
    }
   ],
   "source": [
    "sale_price_max=data_train['sale_price'].max()\n",
    "sale_price_max"
   ]
  },
  {
   "cell_type": "code",
   "execution_count": 66,
   "metadata": {},
   "outputs": [],
   "source": [
    "# scaling the sale price using min max scaler and aading it as new column to dataframe\n",
    "from sklearn.preprocessing import MinMaxScaler\n",
    "\n",
    "scaler = MinMaxScaler()\n",
    "data_train['sale_price_scaled']=scaler.fit_transform(data_train['sale_price'].values.reshape(-1,1))"
   ]
  },
  {
   "cell_type": "code",
   "execution_count": 67,
   "metadata": {},
   "outputs": [
    {
     "data": {
      "text/html": [
       "<div>\n",
       "<style scoped>\n",
       "    .dataframe tbody tr th:only-of-type {\n",
       "        vertical-align: middle;\n",
       "    }\n",
       "\n",
       "    .dataframe tbody tr th {\n",
       "        vertical-align: top;\n",
       "    }\n",
       "\n",
       "    .dataframe thead th {\n",
       "        text-align: right;\n",
       "    }\n",
       "</style>\n",
       "<table border=\"1\" class=\"dataframe\">\n",
       "  <thead>\n",
       "    <tr style=\"text-align: right;\">\n",
       "      <th></th>\n",
       "      <th>product</th>\n",
       "      <th>category</th>\n",
       "      <th>sub_category</th>\n",
       "      <th>brand</th>\n",
       "      <th>type</th>\n",
       "      <th>description</th>\n",
       "      <th>sale_price</th>\n",
       "      <th>market_price</th>\n",
       "      <th>discount_%</th>\n",
       "      <th>negative</th>\n",
       "      <th>neutral</th>\n",
       "      <th>positive</th>\n",
       "      <th>compound</th>\n",
       "      <th>sale_price_scaled</th>\n",
       "    </tr>\n",
       "  </thead>\n",
       "  <tbody>\n",
       "    <tr>\n",
       "      <th>0</th>\n",
       "      <td>Flour - Corn</td>\n",
       "      <td>foodgrains_oil_masala</td>\n",
       "      <td>organicstaples</td>\n",
       "      <td>organictattva</td>\n",
       "      <td>organicflours</td>\n",
       "      <td>per calories fat</td>\n",
       "      <td>57.0</td>\n",
       "      <td>60.0</td>\n",
       "      <td>0.050000</td>\n",
       "      <td>0.0</td>\n",
       "      <td>1.000</td>\n",
       "      <td>0.000</td>\n",
       "      <td>0.0000</td>\n",
       "      <td>0.027308</td>\n",
       "    </tr>\n",
       "    <tr>\n",
       "      <th>1</th>\n",
       "      <td>Veg. Burger Patty</td>\n",
       "      <td>snacks_brandedfoods</td>\n",
       "      <td>frozenveggies_snacks</td>\n",
       "      <td>yummiez</td>\n",
       "      <td>frozenvegsnacks</td>\n",
       "      <td>real good veg burger patty choice eating beefy...</td>\n",
       "      <td>125.0</td>\n",
       "      <td>125.0</td>\n",
       "      <td>0.000000</td>\n",
       "      <td>0.0</td>\n",
       "      <td>0.611</td>\n",
       "      <td>0.389</td>\n",
       "      <td>0.9484</td>\n",
       "      <td>0.061350</td>\n",
       "    </tr>\n",
       "    <tr>\n",
       "      <th>2</th>\n",
       "      <td>Dosa Rice/Akki</td>\n",
       "      <td>foodgrains_oil_masala</td>\n",
       "      <td>rice_riceproducts</td>\n",
       "      <td>supersaver</td>\n",
       "      <td>rawrice</td>\n",
       "      <td>rice dosa easy make premium dosa mix used make...</td>\n",
       "      <td>199.0</td>\n",
       "      <td>225.0</td>\n",
       "      <td>0.115556</td>\n",
       "      <td>0.0</td>\n",
       "      <td>0.811</td>\n",
       "      <td>0.189</td>\n",
       "      <td>0.8126</td>\n",
       "      <td>0.098396</td>\n",
       "    </tr>\n",
       "    <tr>\n",
       "      <th>3</th>\n",
       "      <td>Skimmed Milk Powder</td>\n",
       "      <td>gourmet_worldfood</td>\n",
       "      <td>cooking_bakingneeds</td>\n",
       "      <td>puramate</td>\n",
       "      <td>baking_cakedecorations</td>\n",
       "      <td>puramate skimmed milk powder makes wholesome m...</td>\n",
       "      <td>58.5</td>\n",
       "      <td>65.0</td>\n",
       "      <td>0.100000</td>\n",
       "      <td>0.0</td>\n",
       "      <td>0.780</td>\n",
       "      <td>0.220</td>\n",
       "      <td>0.9723</td>\n",
       "      <td>0.028059</td>\n",
       "    </tr>\n",
       "    <tr>\n",
       "      <th>4</th>\n",
       "      <td>Kiwi Drink</td>\n",
       "      <td>gourmet_worldfood</td>\n",
       "      <td>drinks_beverages</td>\n",
       "      <td>alafresh</td>\n",
       "      <td>gourmetjuices_drinks</td>\n",
       "      <td>ala fresh kiwi fruit drink refreshing fruit dr...</td>\n",
       "      <td>10.0</td>\n",
       "      <td>10.0</td>\n",
       "      <td>0.000000</td>\n",
       "      <td>0.0</td>\n",
       "      <td>0.667</td>\n",
       "      <td>0.333</td>\n",
       "      <td>0.8402</td>\n",
       "      <td>0.003780</td>\n",
       "    </tr>\n",
       "  </tbody>\n",
       "</table>\n",
       "</div>"
      ],
      "text/plain": [
       "               product               category          sub_category  \\\n",
       "0         Flour - Corn  foodgrains_oil_masala        organicstaples   \n",
       "1    Veg. Burger Patty    snacks_brandedfoods  frozenveggies_snacks   \n",
       "2       Dosa Rice/Akki  foodgrains_oil_masala     rice_riceproducts   \n",
       "3  Skimmed Milk Powder      gourmet_worldfood   cooking_bakingneeds   \n",
       "4           Kiwi Drink      gourmet_worldfood      drinks_beverages   \n",
       "\n",
       "           brand                    type  \\\n",
       "0  organictattva           organicflours   \n",
       "1        yummiez         frozenvegsnacks   \n",
       "2     supersaver                 rawrice   \n",
       "3       puramate  baking_cakedecorations   \n",
       "4       alafresh    gourmetjuices_drinks   \n",
       "\n",
       "                                         description  sale_price  \\\n",
       "0                                   per calories fat        57.0   \n",
       "1  real good veg burger patty choice eating beefy...       125.0   \n",
       "2  rice dosa easy make premium dosa mix used make...       199.0   \n",
       "3  puramate skimmed milk powder makes wholesome m...        58.5   \n",
       "4  ala fresh kiwi fruit drink refreshing fruit dr...        10.0   \n",
       "\n",
       "   market_price  discount_%  negative  neutral  positive  compound  \\\n",
       "0          60.0    0.050000       0.0    1.000     0.000    0.0000   \n",
       "1         125.0    0.000000       0.0    0.611     0.389    0.9484   \n",
       "2         225.0    0.115556       0.0    0.811     0.189    0.8126   \n",
       "3          65.0    0.100000       0.0    0.780     0.220    0.9723   \n",
       "4          10.0    0.000000       0.0    0.667     0.333    0.8402   \n",
       "\n",
       "   sale_price_scaled  \n",
       "0           0.027308  \n",
       "1           0.061350  \n",
       "2           0.098396  \n",
       "3           0.028059  \n",
       "4           0.003780  "
      ]
     },
     "execution_count": 67,
     "metadata": {},
     "output_type": "execute_result"
    }
   ],
   "source": [
    "data_train.head()"
   ]
  },
  {
   "cell_type": "code",
   "execution_count": 68,
   "metadata": {},
   "outputs": [
    {
     "data": {
      "text/html": [
       "<div>\n",
       "<style scoped>\n",
       "    .dataframe tbody tr th:only-of-type {\n",
       "        vertical-align: middle;\n",
       "    }\n",
       "\n",
       "    .dataframe tbody tr th {\n",
       "        vertical-align: top;\n",
       "    }\n",
       "\n",
       "    .dataframe thead th {\n",
       "        text-align: right;\n",
       "    }\n",
       "</style>\n",
       "<table border=\"1\" class=\"dataframe\">\n",
       "  <thead>\n",
       "    <tr style=\"text-align: right;\">\n",
       "      <th></th>\n",
       "      <th>sale_price_scaled</th>\n",
       "      <th>discount_%</th>\n",
       "      <th>negative</th>\n",
       "      <th>neutral</th>\n",
       "      <th>positive</th>\n",
       "      <th>compound</th>\n",
       "    </tr>\n",
       "  </thead>\n",
       "  <tbody>\n",
       "    <tr>\n",
       "      <th>count</th>\n",
       "      <td>21648.000000</td>\n",
       "      <td>21648.000000</td>\n",
       "      <td>21648.000000</td>\n",
       "      <td>21648.000000</td>\n",
       "      <td>21648.000000</td>\n",
       "      <td>21648.000000</td>\n",
       "    </tr>\n",
       "    <tr>\n",
       "      <th>mean</th>\n",
       "      <td>0.138666</td>\n",
       "      <td>0.118632</td>\n",
       "      <td>0.038257</td>\n",
       "      <td>0.670894</td>\n",
       "      <td>0.290848</td>\n",
       "      <td>0.776339</td>\n",
       "    </tr>\n",
       "    <tr>\n",
       "      <th>std</th>\n",
       "      <td>0.148060</td>\n",
       "      <td>0.147265</td>\n",
       "      <td>0.055506</td>\n",
       "      <td>0.131387</td>\n",
       "      <td>0.125547</td>\n",
       "      <td>0.311236</td>\n",
       "    </tr>\n",
       "    <tr>\n",
       "      <th>min</th>\n",
       "      <td>0.000000</td>\n",
       "      <td>0.000000</td>\n",
       "      <td>0.000000</td>\n",
       "      <td>0.108000</td>\n",
       "      <td>0.000000</td>\n",
       "      <td>-0.982000</td>\n",
       "    </tr>\n",
       "    <tr>\n",
       "      <th>25%</th>\n",
       "      <td>0.046081</td>\n",
       "      <td>0.000000</td>\n",
       "      <td>0.000000</td>\n",
       "      <td>0.584000</td>\n",
       "      <td>0.214000</td>\n",
       "      <td>0.735100</td>\n",
       "    </tr>\n",
       "    <tr>\n",
       "      <th>50%</th>\n",
       "      <td>0.093389</td>\n",
       "      <td>0.050000</td>\n",
       "      <td>0.000000</td>\n",
       "      <td>0.664000</td>\n",
       "      <td>0.294000</td>\n",
       "      <td>0.907300</td>\n",
       "    </tr>\n",
       "    <tr>\n",
       "      <th>75%</th>\n",
       "      <td>0.173488</td>\n",
       "      <td>0.200000</td>\n",
       "      <td>0.061000</td>\n",
       "      <td>0.748000</td>\n",
       "      <td>0.372000</td>\n",
       "      <td>0.964800</td>\n",
       "    </tr>\n",
       "    <tr>\n",
       "      <th>max</th>\n",
       "      <td>1.000000</td>\n",
       "      <td>0.836667</td>\n",
       "      <td>0.630000</td>\n",
       "      <td>1.000000</td>\n",
       "      <td>0.892000</td>\n",
       "      <td>0.999800</td>\n",
       "    </tr>\n",
       "  </tbody>\n",
       "</table>\n",
       "</div>"
      ],
      "text/plain": [
       "       sale_price_scaled    discount_%      negative       neutral  \\\n",
       "count       21648.000000  21648.000000  21648.000000  21648.000000   \n",
       "mean            0.138666      0.118632      0.038257      0.670894   \n",
       "std             0.148060      0.147265      0.055506      0.131387   \n",
       "min             0.000000      0.000000      0.000000      0.108000   \n",
       "25%             0.046081      0.000000      0.000000      0.584000   \n",
       "50%             0.093389      0.050000      0.000000      0.664000   \n",
       "75%             0.173488      0.200000      0.061000      0.748000   \n",
       "max             1.000000      0.836667      0.630000      1.000000   \n",
       "\n",
       "           positive      compound  \n",
       "count  21648.000000  21648.000000  \n",
       "mean       0.290848      0.776339  \n",
       "std        0.125547      0.311236  \n",
       "min        0.000000     -0.982000  \n",
       "25%        0.214000      0.735100  \n",
       "50%        0.294000      0.907300  \n",
       "75%        0.372000      0.964800  \n",
       "max        0.892000      0.999800  "
      ]
     },
     "execution_count": 68,
     "metadata": {},
     "output_type": "execute_result"
    }
   ],
   "source": [
    "data_train[['sale_price_scaled','discount_%','negative','neutral','positive','compound']].describe()"
   ]
  },
  {
   "cell_type": "code",
   "execution_count": 69,
   "metadata": {},
   "outputs": [],
   "source": [
    "# concatenating sentiment scores of description,sale_price_scaled,discount_% for clustering analysis\n",
    "# using only numerical features for getting means(cenytroids) of cluster for further assignment\n",
    "#https://numpy.org/doc/stable/reference/generated/numpy.hstack.html\n",
    "X_train = np.hstack((data_train['sale_price_scaled'].values.reshape(-1,1),data_train['discount_%'].values.reshape(-1,1), \\\n",
    "           data_train['negative'].values.reshape(-1,1),data_train['neutral'].values.reshape(-1,1), \\\n",
    "           data_train['positive'].values.reshape(-1,1),data_train['compound'].values.reshape(-1,1)))"
   ]
  },
  {
   "cell_type": "code",
   "execution_count": 70,
   "metadata": {},
   "outputs": [
    {
     "data": {
      "text/plain": [
       "(21648, 6)"
      ]
     },
     "execution_count": 70,
     "metadata": {},
     "output_type": "execute_result"
    }
   ],
   "source": [
    "X_train.shape"
   ]
  },
  {
   "cell_type": "code",
   "execution_count": 71,
   "metadata": {},
   "outputs": [
    {
     "data": {
      "image/png": "[encoded data removed]",
      "text/plain": [
       "<Figure size 720x360 with 1 Axes>"
      ]
     },
     "metadata": {},
     "output_type": "display_data"
    },
    {
     "name": "stdout",
     "output_type": "stream",
     "text": [
      "Wall time: 8min 20s\n"
     ]
    }
   ],
   "source": [
    "%%time\n",
    "# performing clustering using Kmeans \n",
    "#https://scikit-learn.org/stable/modules/generated/sklearn.cluster.KMeans.html\n",
    "#https://scikit-learn.org/stable/modules/generated/sklearn.metrics.silhouette_score.html#sklearn.metrics.silhouette_score\n",
    "#https://scikit-learn.org/stable/modules/clustering.html\n",
    "from sklearn.cluster import KMeans\n",
    "from sklearn.metrics import silhouette_score # to evaluate clustering performance\n",
    "silhouette_scr=[]\n",
    "K=range(2,41)\n",
    "for k in K:\n",
    "    kmeans=KMeans(n_clusters=k,n_init=12,max_iter=200) # setting KMeans cluster with 12 different centriod initializations & 200 iterations for a single run\n",
    "    kmeans=kmeans.fit(X_train)\n",
    "    labels=kmeans.labels_\n",
    "    \n",
    "    # silhouette score\n",
    "    silhouette_scr.append(silhouette_score(X_train,labels))\n",
    "\n",
    "plt.plot(K,silhouette_scr,'b*-')\n",
    "plt.xlabel('K: No.of Clusters')\n",
    "plt.ylabel('Silhouette score')\n",
    "plt.title('Silhouette analysis For Optimal k')\n",
    "plt.show()"
   ]
  },
  {
   "cell_type": "markdown",
   "metadata": {},
   "source": [
    "- For a good clustering silhouette score should be as close as to 1, but in our case the K with maximum silhouette score is 2, for optimum number of clusters will choose 5 as best_k by elbow method"
   ]
  },
  {
   "cell_type": "code",
   "execution_count": 72,
   "metadata": {},
   "outputs": [],
   "source": [
    "# will group data into 5 clusters\n",
    "best_k=5\n",
    "kmeans=KMeans(n_clusters=best_k,n_init=12,max_iter=200) # setting KMeans cluster with 12 different centriod initializations & 200 iterations for a single run\n",
    "kmeans=kmeans.fit(X_train)"
   ]
  },
  {
   "cell_type": "code",
   "execution_count": 73,
   "metadata": {},
   "outputs": [
    {
     "data": {
      "text/plain": [
       "21648"
      ]
     },
     "execution_count": 73,
     "metadata": {},
     "output_type": "execute_result"
    }
   ],
   "source": [
    "labels=kmeans.labels_ # labels for each product given by clustering model\n",
    "len(labels)"
   ]
  },
  {
   "cell_type": "code",
   "execution_count": 76,
   "metadata": {},
   "outputs": [
    {
     "data": {
      "text/plain": [
       "array([[ 0.54857643,  0.11983299,  0.03506038,  0.64228334,  0.32264499,\n",
       "         0.90715926],\n",
       "       [ 0.10898021,  0.0897548 ,  0.0870934 ,  0.84675447,  0.06614374,\n",
       "        -0.08649407],\n",
       "       [ 0.1049003 ,  0.03575375,  0.03250612,  0.61690733,  0.35058553,\n",
       "         0.92216618],\n",
       "       [ 0.10346436,  0.09307554,  0.04148257,  0.77058688,  0.18793082,\n",
       "         0.57071835],\n",
       "       [ 0.11730835,  0.3167028 ,  0.03056984,  0.65071446,  0.31871776,\n",
       "         0.90967596]])"
      ]
     },
     "execution_count": 76,
     "metadata": {},
     "output_type": "execute_result"
    }
   ],
   "source": [
    "# getting centroids\n",
    "cluster_centers=kmeans.cluster_centers_\n",
    "cluster_centers"
   ]
  },
  {
   "cell_type": "code",
   "execution_count": 77,
   "metadata": {},
   "outputs": [],
   "source": [
    "#saving cluster centers to pkl file\n",
    "pickle.dump(cluster_centers,open('cluster_centers.pkl','wb'))"
   ]
  },
  {
   "cell_type": "code",
   "execution_count": 74,
   "metadata": {},
   "outputs": [
    {
     "data": {
      "image/png": "[encoded data removed]",
      "text/plain": [
       "<Figure size 486.975x432 with 1 Axes>"
      ]
     },
     "metadata": {},
     "output_type": "display_data"
    }
   ],
   "source": [
    "#visualising clusters using tsne\n",
    "#https://scikit-learn.org/stable/modules/generated/sklearn.manifold.TSNE.html\n",
    "#https://plotly.com/python/t-sne-and-umap-projections/\n",
    "\n",
    "# tsne for clustering with 5 clusters\n",
    "from sklearn.manifold import TSNE\n",
    "\n",
    "tsne = TSNE(n_components=2, random_state=0,perplexity=50,n_iter=500) \n",
    "\n",
    "projections=tsne.fit_transform(X_train)\n",
    "\n",
    "# creating a new data fram which help us in ploting the result data\n",
    "tsne_data = np.vstack((projections.T, labels)).T\n",
    "tsne_df = pd.DataFrame(data=tsne_data, columns=(\"Dim_1\", \"Dim_2\", \"label\"))\n",
    "\n",
    "# Ploting the result of tsne\n",
    "sns.FacetGrid(tsne_df, hue=\"label\", size=6).map(plt.scatter, 'Dim_1', 'Dim_2').add_legend()\n",
    "plt.title('With perplexity = 50')\n",
    "plt.show()"
   ]
  },
  {
   "cell_type": "markdown",
   "metadata": {},
   "source": [
    "- Cluster 0 has some overlap\n",
    "- Rest clusters are separated to a good extent "
   ]
  },
  {
   "cell_type": "code",
   "execution_count": 78,
   "metadata": {},
   "outputs": [
    {
     "data": {
      "text/html": [
       "<div>\n",
       "<style scoped>\n",
       "    .dataframe tbody tr th:only-of-type {\n",
       "        vertical-align: middle;\n",
       "    }\n",
       "\n",
       "    .dataframe tbody tr th {\n",
       "        vertical-align: top;\n",
       "    }\n",
       "\n",
       "    .dataframe thead th {\n",
       "        text-align: right;\n",
       "    }\n",
       "</style>\n",
       "<table border=\"1\" class=\"dataframe\">\n",
       "  <thead>\n",
       "    <tr style=\"text-align: right;\">\n",
       "      <th></th>\n",
       "      <th>product</th>\n",
       "      <th>category</th>\n",
       "      <th>sub_category</th>\n",
       "      <th>brand</th>\n",
       "      <th>type</th>\n",
       "      <th>description</th>\n",
       "      <th>sale_price</th>\n",
       "      <th>market_price</th>\n",
       "      <th>discount_%</th>\n",
       "      <th>negative</th>\n",
       "      <th>neutral</th>\n",
       "      <th>positive</th>\n",
       "      <th>compound</th>\n",
       "      <th>sale_price_scaled</th>\n",
       "      <th>cluster_label</th>\n",
       "    </tr>\n",
       "  </thead>\n",
       "  <tbody>\n",
       "    <tr>\n",
       "      <th>0</th>\n",
       "      <td>Flour - Corn</td>\n",
       "      <td>foodgrains_oil_masala</td>\n",
       "      <td>organicstaples</td>\n",
       "      <td>organictattva</td>\n",
       "      <td>organicflours</td>\n",
       "      <td>per calories fat</td>\n",
       "      <td>57.0</td>\n",
       "      <td>60.0</td>\n",
       "      <td>0.050000</td>\n",
       "      <td>0.0</td>\n",
       "      <td>1.000</td>\n",
       "      <td>0.000</td>\n",
       "      <td>0.0000</td>\n",
       "      <td>0.027308</td>\n",
       "      <td>1</td>\n",
       "    </tr>\n",
       "    <tr>\n",
       "      <th>1</th>\n",
       "      <td>Veg. Burger Patty</td>\n",
       "      <td>snacks_brandedfoods</td>\n",
       "      <td>frozenveggies_snacks</td>\n",
       "      <td>yummiez</td>\n",
       "      <td>frozenvegsnacks</td>\n",
       "      <td>real good veg burger patty choice eating beefy...</td>\n",
       "      <td>125.0</td>\n",
       "      <td>125.0</td>\n",
       "      <td>0.000000</td>\n",
       "      <td>0.0</td>\n",
       "      <td>0.611</td>\n",
       "      <td>0.389</td>\n",
       "      <td>0.9484</td>\n",
       "      <td>0.061350</td>\n",
       "      <td>2</td>\n",
       "    </tr>\n",
       "    <tr>\n",
       "      <th>2</th>\n",
       "      <td>Dosa Rice/Akki</td>\n",
       "      <td>foodgrains_oil_masala</td>\n",
       "      <td>rice_riceproducts</td>\n",
       "      <td>supersaver</td>\n",
       "      <td>rawrice</td>\n",
       "      <td>rice dosa easy make premium dosa mix used make...</td>\n",
       "      <td>199.0</td>\n",
       "      <td>225.0</td>\n",
       "      <td>0.115556</td>\n",
       "      <td>0.0</td>\n",
       "      <td>0.811</td>\n",
       "      <td>0.189</td>\n",
       "      <td>0.8126</td>\n",
       "      <td>0.098396</td>\n",
       "      <td>3</td>\n",
       "    </tr>\n",
       "    <tr>\n",
       "      <th>3</th>\n",
       "      <td>Skimmed Milk Powder</td>\n",
       "      <td>gourmet_worldfood</td>\n",
       "      <td>cooking_bakingneeds</td>\n",
       "      <td>puramate</td>\n",
       "      <td>baking_cakedecorations</td>\n",
       "      <td>puramate skimmed milk powder makes wholesome m...</td>\n",
       "      <td>58.5</td>\n",
       "      <td>65.0</td>\n",
       "      <td>0.100000</td>\n",
       "      <td>0.0</td>\n",
       "      <td>0.780</td>\n",
       "      <td>0.220</td>\n",
       "      <td>0.9723</td>\n",
       "      <td>0.028059</td>\n",
       "      <td>2</td>\n",
       "    </tr>\n",
       "    <tr>\n",
       "      <th>4</th>\n",
       "      <td>Kiwi Drink</td>\n",
       "      <td>gourmet_worldfood</td>\n",
       "      <td>drinks_beverages</td>\n",
       "      <td>alafresh</td>\n",
       "      <td>gourmetjuices_drinks</td>\n",
       "      <td>ala fresh kiwi fruit drink refreshing fruit dr...</td>\n",
       "      <td>10.0</td>\n",
       "      <td>10.0</td>\n",
       "      <td>0.000000</td>\n",
       "      <td>0.0</td>\n",
       "      <td>0.667</td>\n",
       "      <td>0.333</td>\n",
       "      <td>0.8402</td>\n",
       "      <td>0.003780</td>\n",
       "      <td>2</td>\n",
       "    </tr>\n",
       "  </tbody>\n",
       "</table>\n",
       "</div>"
      ],
      "text/plain": [
       "               product               category          sub_category  \\\n",
       "0         Flour - Corn  foodgrains_oil_masala        organicstaples   \n",
       "1    Veg. Burger Patty    snacks_brandedfoods  frozenveggies_snacks   \n",
       "2       Dosa Rice/Akki  foodgrains_oil_masala     rice_riceproducts   \n",
       "3  Skimmed Milk Powder      gourmet_worldfood   cooking_bakingneeds   \n",
       "4           Kiwi Drink      gourmet_worldfood      drinks_beverages   \n",
       "\n",
       "           brand                    type  \\\n",
       "0  organictattva           organicflours   \n",
       "1        yummiez         frozenvegsnacks   \n",
       "2     supersaver                 rawrice   \n",
       "3       puramate  baking_cakedecorations   \n",
       "4       alafresh    gourmetjuices_drinks   \n",
       "\n",
       "                                         description  sale_price  \\\n",
       "0                                   per calories fat        57.0   \n",
       "1  real good veg burger patty choice eating beefy...       125.0   \n",
       "2  rice dosa easy make premium dosa mix used make...       199.0   \n",
       "3  puramate skimmed milk powder makes wholesome m...        58.5   \n",
       "4  ala fresh kiwi fruit drink refreshing fruit dr...        10.0   \n",
       "\n",
       "   market_price  discount_%  negative  neutral  positive  compound  \\\n",
       "0          60.0    0.050000       0.0    1.000     0.000    0.0000   \n",
       "1         125.0    0.000000       0.0    0.611     0.389    0.9484   \n",
       "2         225.0    0.115556       0.0    0.811     0.189    0.8126   \n",
       "3          65.0    0.100000       0.0    0.780     0.220    0.9723   \n",
       "4          10.0    0.000000       0.0    0.667     0.333    0.8402   \n",
       "\n",
       "   sale_price_scaled  cluster_label  \n",
       "0           0.027308              1  \n",
       "1           0.061350              2  \n",
       "2           0.098396              3  \n",
       "3           0.028059              2  \n",
       "4           0.003780              2  "
      ]
     },
     "execution_count": 78,
     "metadata": {},
     "output_type": "execute_result"
    }
   ],
   "source": [
    "# inserting cluster_label as column \n",
    "data_train['cluster_label']=labels\n",
    "data_train.head()"
   ]
  },
  {
   "cell_type": "code",
   "execution_count": 79,
   "metadata": {},
   "outputs": [],
   "source": [
    "#saving preprocessed train data to csv\n",
    "data_train.to_csv('train_preprocessed_with_clusterlabels.csv',index=False)"
   ]
  },
  {
   "cell_type": "code",
   "execution_count": 80,
   "metadata": {},
   "outputs": [],
   "source": [
    "# saving raw test data to csv\n",
    "data_test.to_csv('test_raw.csv',index=False)"
   ]
  },
  {
   "cell_type": "markdown",
   "metadata": {},
   "source": [
    "### <u/> References:\n",
    "\n",
    "- https://www.geeksforgeeks.org/\n",
    "- https://seaborn.pydata.org/generated/seaborn\n",
    "- https://matplotlib.org/stable/api/_as_gen/matplotlib.pyplot.hist.html\n",
    "- https://docs.python.org/3/library/re.html\n",
    "- https://www.towardsdatascience.com/"
   ]
  },
  {
   "cell_type": "code",
   "execution_count": null,
   "metadata": {},
   "outputs": [],
   "source": []
  }
 ],
 "metadata": {
  "kernelspec": {
   "display_name": "Python 3",
   "language": "python",
   "name": "python3"
  },
  "language_info": {
   "codemirror_mode": {
    "name": "ipython",
    "version": 3
   },
   "file_extension": ".py",
   "mimetype": "text/x-python",
   "name": "python",
   "nbconvert_exporter": "python",
   "pygments_lexer": "ipython3",
   "version": "3.8.3"
  }
 },
 "nbformat": 4,
 "nbformat_minor": 4
}
